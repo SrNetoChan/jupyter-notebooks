{
 "cells": [
  {
   "cell_type": "markdown",
   "metadata": {},
   "source": [
    "# Introdução ao Python\n",
    "\n",
    "Iremos usar este notebook para explorar os principais elementos do Python. Como seria de esperar, nem todos operadores e tipos de dados serão abrangidos nesta introdução, por essa razão será sempre útil ter à mão a [documentação oficial do Python](https://docs.python.org/3/).\n",
    "\n",
    "**Nota:** Notebooks jupyter não são consideradas ferramentas de programação, são antes ferramentas usadas na exploração preliminar de dados e são especialmente úteis em contextos de formação, como é o nosso caso.\n",
    "\n"
   ]
  },
  {
   "cell_type": "markdown",
   "metadata": {},
   "source": [
    "## Variáveis\n",
    "\n",
    "Em Python, as variáveis são etiquetas com nomes que apontam para valores(objectos). A contrário de outras linguagens de programação, em Python, a declaração de uma variável e atribuição de um valor é feita num único passo usando o operador `=`. Ao longo do tempo de vida de um programa ou script a mesma variavel pode mudar de valor e ate mudar de tipo de valores."
   ]
  },
  {
   "cell_type": "code",
   "execution_count": 1,
   "metadata": {},
   "outputs": [
    {
     "name": "stdout",
     "output_type": "stream",
     "text": [
      "10 2 Artur\n",
      "10 2 Lancelot\n"
     ]
    }
   ],
   "source": [
    "a a = 10\n",
    "b = 2\n",
    "nome = 'Artur'\n",
    "\n",
    "print(a, b, nome)\n",
    "\n",
    "# Mudar valor da variavel\n",
    "nome  = 'Lancelot'\n",
    "\n",
    "print(a, b, nome)"
   ]
  },
  {
   "cell_type": "markdown",
   "metadata": {},
   "source": [
    "> **Nota - Comentarios** Se quisermos adicionar comentarios no nosso codigo python, pratica muito comum e desejavel, fazemos com recurso ao caracter `#`. Em Python, na mesma linha, tudo o que vier a direita de um # e ignorado"
   ]
  },
  {
   "cell_type": "markdown",
   "metadata": {},
   "source": [
    "As regras fundamentais para nomear as variáveis são:\n",
    "\n",
    "1. O nome de uma variável deve começar com uma letra ou um underscore\n",
    "2. Os nomes de variáveis só devem ter caracteres alfanuméricos (a-z, A-Z, 0-9) e underscores.\n",
    "\n",
    "Para além disso, são recomendadas as seguinte regras na escolha de nomes de variáveis:\n",
    "\n",
    "1. Um bom nome de uma variável tem um significado explícito - tem de ser possível adivinhar o objectivo da mesma apartir do seu nome.\n",
    "2. Um bom nome de uma variável deve ser curto para evitar a poluição visual\n",
    "\n",
    "Por exemplo, compare:\n",
    "\n",
    "> `a = b * c`\n",
    "\n",
    "Com:\n",
    "\n",
    "> `area_rectangulo = altura * largura`\n"
   ]
  },
  {
   "cell_type": "markdown",
   "metadata": {},
   "source": [
    "Uma variável para existir, terá de ser declarada anteriormente com um valor. Se isso não for feito, ao tentarmos usar uma variável que não foi iniciada, vamos obter um erro."
   ]
  },
  {
   "cell_type": "code",
   "execution_count": 2,
   "metadata": {},
   "outputs": [
    {
     "ename": "NameError",
     "evalue": "name 'z' is not defined",
     "output_type": "error",
     "traceback": [
      "\u001b[0;31m---------------------------------------------------------------------------\u001b[0m",
      "\u001b[0;31mNameError\u001b[0m                                 Traceback (most recent call last)",
      "\u001b[0;32m/tmp/ipykernel_24887/557461111.py\u001b[0m in \u001b[0;36m<module>\u001b[0;34m\u001b[0m\n\u001b[0;32m----> 1\u001b[0;31m \u001b[0mprint\u001b[0m\u001b[0;34m(\u001b[0m\u001b[0mz\u001b[0m\u001b[0;34m)\u001b[0m\u001b[0;34m\u001b[0m\u001b[0;34m\u001b[0m\u001b[0m\n\u001b[0m",
      "\u001b[0;31mNameError\u001b[0m: name 'z' is not defined"
     ]
    }
   ],
   "source": [
    "print(z)"
   ]
  },
  {
   "cell_type": "markdown",
   "metadata": {},
   "source": [
    " Quando precisamos de criar uma variável \"vazia\" usamos a palavra reservada `None`."
   ]
  },
  {
   "cell_type": "code",
   "execution_count": 3,
   "metadata": {},
   "outputs": [
    {
     "name": "stdout",
     "output_type": "stream",
     "text": [
      "None\n"
     ]
    }
   ],
   "source": [
    "z = None\n",
    "print(z)"
   ]
  },
  {
   "cell_type": "markdown",
   "metadata": {},
   "source": [
    "A gestão de memória no Python e automática, quando um determinado valor/objecto deixa de ser usado, o gestor de memória encarrega-se de o eliminar da memória para libertar espaco para outras coisas."
   ]
  },
  {
   "cell_type": "markdown",
   "metadata": {},
   "source": [
    "## Tipos de dados\n",
    "\n",
    "Em python existem os seguintes tipos de dados:\n",
    "\n",
    "* Números (inteiros, float e complexo)\n",
    "* Textos (uma cadeia de caracteres)\n",
    "* Boleanos (valores logicos: `True` e `False`)\n",
    "\n",
    "Cada data type define um domínio (i.e., conjunto aceitável de valores) e operadores que podem trabalhar com eles.\n",
    "\n",
    "### Números\n",
    "\n",
    "#### Tipos de números\n",
    "\n",
    "Os números em python podem ser inteiros, float ou complexos\n",
    "\n",
    "Exemplos de numero inteiros:"
   ]
  },
  {
   "cell_type": "code",
   "execution_count": 4,
   "metadata": {},
   "outputs": [],
   "source": [
    "\n",
    "n1 = 0\n",
    "n2 = 24\n",
    "n3 = -50\n",
    "n4 =  34453536363"
   ]
  },
  {
   "cell_type": "markdown",
   "metadata": {},
   "source": [
    "Exemplos de numeros float (reais):"
   ]
  },
  {
   "cell_type": "code",
   "execution_count": 5,
   "metadata": {},
   "outputs": [],
   "source": [
    "f1 = 0.1\n",
    "f2 = -1.212\n",
    "f3 = 1231212312.0\n",
    "f4 = -1214456.12123"
   ]
  },
  {
   "cell_type": "markdown",
   "metadata": {},
   "source": [
    "Podemos ver o tipo de numero/dado usando a funcao type()"
   ]
  },
  {
   "cell_type": "code",
   "execution_count": 6,
   "metadata": {},
   "outputs": [
    {
     "name": "stdout",
     "output_type": "stream",
     "text": [
      "<class 'int'>\n",
      "<class 'float'>\n"
     ]
    }
   ],
   "source": [
    "print(type(n1))\n",
    "print(type(f1))"
   ]
  },
  {
   "cell_type": "markdown",
   "metadata": {},
   "source": [
    "#### Exercisio:\n",
    "\n",
    "Analise e corra o seguinte codigo:"
   ]
  },
  {
   "cell_type": "code",
   "execution_count": 7,
   "metadata": {},
   "outputs": [],
   "source": [
    "number = 50\n",
    "number = -22\n",
    "number = 1.2345"
   ]
  },
  {
   "cell_type": "markdown",
   "metadata": {},
   "source": [
    "Consegue adivinhar qual o valor final da variável `number`? Escreva em baixo o código que confirma a sua resposta."
   ]
  },
  {
   "cell_type": "code",
   "execution_count": 8,
   "metadata": {},
   "outputs": [],
   "source": [
    "# Escreva o codigo abaixo desta linha"
   ]
  },
  {
   "cell_type": "markdown",
   "metadata": {},
   "source": [
    "#### Operadores aritméticos\n",
    "\n",
    "O Python trás nativamente os operadores aritméticos mais comuns, como sejam:\n",
    "\n",
    "\n",
    "| nome         | Operador  |\n",
    "|--------------|-----------|\n",
    "| Adicao | `+`  |\n",
    "| Subtraccao      | `-`  |\n",
    "| Multiplicação | `*` |\n",
    "| Divisão | `/` |\n",
    "| Quoficiente da divisão inteira | `//` |\n",
    "| Resto da divisão inteira| `%` |\n",
    "| Potência | `**` |"
   ]
  },
  {
   "cell_type": "code",
   "execution_count": 9,
   "metadata": {},
   "outputs": [
    {
     "name": "stdout",
     "output_type": "stream",
     "text": [
      "13\n",
      "30\n",
      "3.3333333333333335\n",
      "3\n",
      "1\n",
      "1000\n"
     ]
    }
   ],
   "source": [
    "n1 = 10\n",
    "n2 = 3\n",
    "\n",
    "print(n1 + n2)\n",
    "print(n1 * n2)\n",
    "print(n1 / n2)\n",
    "print(n1 // n2)\n",
    "print(n1 % n2)\n",
    "print(n1 ** n2)"
   ]
  },
  {
   "cell_type": "markdown",
   "metadata": {},
   "source": [
    "Com a excepção dos operadores de quociente e resto, todos os outros operadores podem ser usados com outros tipos de números.\n",
    "\n",
    "Paralelamente, através da instalação de bibliotecas especializadas, é possível adicionar outros tipos de dados numéricos e respectivos operadores. Veremos como carregar outras bibliotecas mais à frente no curso."
   ]
  },
  {
   "cell_type": "markdown",
   "metadata": {},
   "source": [
    "### Strings (text)\n",
    "\n",
    "#### Como representar Strings\n",
    "\n",
    "As strings, habitualmente traduzidas como cadeia de caracteres ou texto, servem para guardar caracteres individuais, palavras, frases, textos. São objectos imutáveis.\n",
    "\n",
    "Representam-se de três formas possíveis:\n",
    "\n",
    "* Pelicas\n",
    "* Aspas\n",
    "* Aspas tripas"
   ]
  },
  {
   "cell_type": "code",
   "execution_count": 10,
   "metadata": {},
   "outputs": [],
   "source": [
    "s1 = 'Hello, there! I am a string defined with single quotes. Therefore, I have no problems representing double quotes (\")!'\n",
    "s2 = \"Hello, there! I'm a string defined with double quotes. Therefore, I have no problems representing single quotes (')!\"\n",
    "s3 = \"\"\"\n",
    "Hello, there! I'm a string defined with triple quotes.\n",
    "Not only I don't have problems representing double quotes (\") or single quotes (')\n",
    "but I am also multi line by nature. \"\"\""
   ]
  },
  {
   "cell_type": "markdown",
   "metadata": {},
   "source": [
    "A escolha entre pelicas ou aspas é uma questão de estilo ou escolha pessoal. É no entanto conveniente ser-se coerente com essa escolha. Pessoalmente, prefiro o uso das pelicas por serem mais rápidas de escrever, mas tornam a escrita em inglês mais complicada.\n",
    "\n",
    "O uso das asplas triplas guarda-se geralmente para as doc-strings, onde descrevemos as funcionalidade de uma função.\n",
    "\n",
    "Se numa string representada por meio de pelicas, quisermos representar uma pelica, podemos usar o caractere de escape \\. Este caractere também é necessário de usar para caminhos de ficheiros em windows."
   ]
  },
  {
   "cell_type": "code",
   "execution_count": 11,
   "metadata": {},
   "outputs": [
    {
     "ename": "SyntaxError",
     "evalue": "unterminated string literal (detected at line 1) (148993037.py, line 1)",
     "output_type": "error",
     "traceback": [
      "\u001b[0;36m  File \u001b[0;32m\"/tmp/ipykernel_24887/148993037.py\"\u001b[0;36m, line \u001b[0;32m1\u001b[0m\n\u001b[0;31m    s5 = 'Hello, there! I'm a string defined with single quotes.'\u001b[0m\n\u001b[0m                                                                ^\u001b[0m\n\u001b[0;31mSyntaxError\u001b[0m\u001b[0;31m:\u001b[0m unterminated string literal (detected at line 1)\n"
     ]
    }
   ],
   "source": [
    "s5 = 'Hello, there! I'm a string defined with single quotes.'\n",
    "print(s5)\n"
   ]
  },
  {
   "cell_type": "code",
   "execution_count": 12,
   "metadata": {},
   "outputs": [
    {
     "name": "stdout",
     "output_type": "stream",
     "text": [
      "Hello, there! I'm a string defined with single quote with a escape caracter.\n"
     ]
    }
   ],
   "source": [
    "s5 = 'Hello, there! I\\'m a string defined with single quote with a escape caracter.'\n",
    "print(s5)\n"
   ]
  },
  {
   "cell_type": "code",
   "execution_count": 13,
   "metadata": {},
   "outputs": [
    {
     "ename": "SyntaxError",
     "evalue": "(unicode error) 'unicodeescape' codec can't decode bytes in position 2-3: truncated \\uXXXX escape (4105865062.py, line 1)",
     "output_type": "error",
     "traceback": [
      "\u001b[0;36m  File \u001b[0;32m\"/tmp/ipykernel_24887/4105865062.py\"\u001b[0;36m, line \u001b[0;32m1\u001b[0m\n\u001b[0;31m    path = 'c:\\users\\arthur\\deskop\\my_file.py'\u001b[0m\n\u001b[0m                                              ^\u001b[0m\n\u001b[0;31mSyntaxError\u001b[0m\u001b[0;31m:\u001b[0m (unicode error) 'unicodeescape' codec can't decode bytes in position 2-3: truncated \\uXXXX escape\n"
     ]
    }
   ],
   "source": [
    "\n",
    "path = 'c:\\users\\arthur\\deskop\\my_file.py'\n",
    "print(path)\n"
   ]
  },
  {
   "cell_type": "code",
   "execution_count": 14,
   "metadata": {},
   "outputs": [
    {
     "name": "stdout",
     "output_type": "stream",
     "text": [
      "c:\\users\\arthur\\deskop\\my_file.py\n"
     ]
    }
   ],
   "source": [
    "\n",
    "path = 'c:\\\\users\\\\arthur\\\\deskop\\\\my_file.py'\n",
    "print(path)"
   ]
  },
  {
   "cell_type": "markdown",
   "metadata": {},
   "source": [
    "#### Operadores sobre strings\n",
    "\n",
    "As string são indexadas por inteiros com começo em zero, e podem ser acedidas com base nesse índice."
   ]
  },
  {
   "cell_type": "code",
   "execution_count": 15,
   "metadata": {},
   "outputs": [
    {
     "name": "stdout",
     "output_type": "stream",
     "text": [
      "H\n",
      "l\n",
      "grail\n",
      "Holy g\n",
      "ly g\n"
     ]
    }
   ],
   "source": [
    "nome = 'Holy grail'\n",
    "\n",
    "print(nome[0]) # indice 0 Para obter o primeiro caracter\n",
    "print(nome[-1]) # indice -1 para obter o último caracter\n",
    "print(nome[5:]) # Para obter os primeiros X caracteres\n",
    "print(nome[:-4]) # Para obter os ultimos X caracteres\n",
    "print(nome[2:6]) # Para obter os caracteres dentro de um intervalo. Atenção que o último caracter é excluído."
   ]
  },
  {
   "cell_type": "markdown",
   "metadata": {},
   "source": [
    "Algumas operações aritméticas também funcionam com strings. Por exemplo, a concatenação de duas strings pode ser feita com o operador `+`"
   ]
  },
  {
   "cell_type": "code",
   "execution_count": 16,
   "metadata": {},
   "outputs": [
    {
     "name": "stdout",
     "output_type": "stream",
     "text": [
      "Olá, o meu nome é Zeferino\n"
     ]
    }
   ],
   "source": [
    "s1 = 'Olá, o meu nome é '\n",
    "s2 = 'Zeferino'\n",
    "\n",
    "s3 = s1 + s2 \n",
    "\n",
    "print(s3)"
   ]
  },
  {
   "cell_type": "markdown",
   "metadata": {},
   "source": [
    "Também podemos efectuar a multiplicação de uma string por um inteiro."
   ]
  },
  {
   "cell_type": "code",
   "execution_count": 17,
   "metadata": {},
   "outputs": [
    {
     "name": "stdout",
     "output_type": "stream",
     "text": [
      "Olá! Olá! Olá! Zeferino.\n"
     ]
    }
   ],
   "source": [
    "print(\"Olá! \" * 3 + 'Zeferino.')"
   ]
  },
  {
   "cell_type": "markdown",
   "metadata": {},
   "source": [
    "Existe uma longa lista de métodos (funções intrínsecas de um objecto) para strings que podem ser consultadas [aqui](https://docs.python.org/3/library/string.html). Por exemplo, se quisermos converter uma string para maiúsculas podemos usar o método `upper`, mas também podemos usar o método `lower` para tornar todos os caracteres em minúsculas.\n"
   ]
  },
  {
   "cell_type": "code",
   "execution_count": 18,
   "metadata": {},
   "outputs": [
    {
     "name": "stdout",
     "output_type": "stream",
     "text": [
      "HOLY GRAIL\n",
      "holy grail\n",
      "Holy Grail\n"
     ]
    }
   ],
   "source": [
    "nome = 'Holy grail'\n",
    "\n",
    "print(nome.upper())\n",
    "print(nome.lower())\n",
    "print(nome.title())\n"
   ]
  },
  {
   "cell_type": "markdown",
   "metadata": {},
   "source": [
    "Podemos determinar o comprimento de uma string através da função `len()`."
   ]
  },
  {
   "cell_type": "code",
   "execution_count": 19,
   "metadata": {},
   "outputs": [
    {
     "name": "stdout",
     "output_type": "stream",
     "text": [
      "14\n"
     ]
    }
   ],
   "source": [
    "s1 = 'paralelipípedo'\n",
    "print(len(s1))"
   ]
  },
  {
   "cell_type": "markdown",
   "metadata": {},
   "source": [
    "Podemos separar uma string em \"pedaços\" usando a função `split()`, que devolve uma lista."
   ]
  },
  {
   "cell_type": "code",
   "execution_count": 5,
   "metadata": {},
   "outputs": [
    {
     "name": "stdout",
     "output_type": "stream",
     "text": [
      "['A', 'vida', 'é', 'feita', 'de', 'pequenos', 'nadas']\n",
      "['A vida é f', 'ita d', ' p', 'qu', 'nos nadas']\n"
     ]
    }
   ],
   "source": [
    "s2 = 'A vida é feita de pequenos nadas'\n",
    "\n",
    "# Usando o default the é o espaço\n",
    "print(s2.split()) \n",
    "\n",
    "# Usando um outro caractere\n",
    "print(s2.split('e'))"
   ]
  },
  {
   "cell_type": "markdown",
   "metadata": {},
   "source": [
    "f-strings são string parametrizáveis. Quer isso dizer que podemos inserir valores em partes específicas do texto."
   ]
  },
  {
   "cell_type": "code",
   "execution_count": 20,
   "metadata": {},
   "outputs": [
    {
     "ename": "SyntaxError",
     "evalue": "unterminated string literal (detected at line 7) (4083152117.py, line 7)",
     "output_type": "error",
     "traceback": [
      "\u001b[0;36m  File \u001b[0;32m\"/tmp/ipykernel_24887/4083152117.py\"\u001b[0;36m, line \u001b[0;32m7\u001b[0m\n\u001b[0;31m    altura = 1.96'\u001b[0m\n\u001b[0m                 ^\u001b[0m\n\u001b[0;31mSyntaxError\u001b[0m\u001b[0;31m:\u001b[0m unterminated string literal (detected at line 7)\n"
     ]
    }
   ],
   "source": [
    "nome = 'Pedro'\n",
    "altura = 1.78\n",
    "\n",
    "print(f\"O {nome} tem {altura} m de altura.\")\n",
    "\n",
    "nome = 'Joaquim'\n",
    "altura = 1.96'\n",
    "\n",
    "print(f\"O {nome} tem {altura} m de altura.\")"
   ]
  },
  {
   "cell_type": "markdown",
   "metadata": {},
   "source": [
    "Uma outra forma de inserir valores dentro de strings é usar o método `format()`. Neste exemplo, ainda decidimos formatar o número com apenas 2 casas décimais.\n"
   ]
  },
  {
   "cell_type": "code",
   "execution_count": 21,
   "metadata": {},
   "outputs": [
    {
     "name": "stdout",
     "output_type": "stream",
     "text": [
      "O Pedro tem 1.78 m de altura.\n"
     ]
    }
   ],
   "source": [
    "\n",
    "nome = 'Pedro'\n",
    "altura = 1.785\n",
    "\n",
    "s = \"O {} tem {:.2f} m de altura.\".format(nome, altura)\n",
    "print(s)"
   ]
  },
  {
   "cell_type": "markdown",
   "metadata": {},
   "source": [
    "### Boleanos\n",
    "\n",
    "#### Como definir valores boleanos\n",
    "\n",
    "Apenas existem dois valores boleanos diferentes: `True` e `False`.\n",
    "\n",
    "Em programação é comum termos de comparar coisas, é maior, é menor, é igual, etc...\n",
    "\n",
    "A comparação segundo a order alfabética ou numérica é feita como em matemática.\n",
    "\n",
    "* `a > b` - a é maior b\n",
    "* `a >= b` - a é maior ou igual a b\n",
    "* `a < b` - a é menor que b\n",
    "* `a <= b` - a é menor ou igual a b\n",
    "* `a == b` - a é igual a b\n",
    "* `a != b` - a é different de b"
   ]
  },
  {
   "cell_type": "markdown",
   "metadata": {},
   "source": [
    "#### Exercício\n",
    "\n",
    "Teste a comparação entre alguns números e textos"
   ]
  },
  {
   "cell_type": "code",
   "execution_count": 22,
   "metadata": {},
   "outputs": [],
   "source": [
    "# Colocar o código abaixo desta linha"
   ]
  },
  {
   "cell_type": "markdown",
   "metadata": {},
   "source": [
    "#### Operadores com boleanos\n",
    "\n",
    "Os operadores boleanos são o and, or e o not, entre outros."
   ]
  },
  {
   "cell_type": "code",
   "execution_count": 23,
   "metadata": {},
   "outputs": [
    {
     "name": "stdout",
     "output_type": "stream",
     "text": [
      "False\n",
      "True\n",
      "False\n"
     ]
    }
   ],
   "source": [
    "verdadeiro = True\n",
    "falso = False\n",
    "\n",
    "print(verdadeiro and falso)\n",
    "print(verdadeiro or falso)\n",
    "print(not verdadeiro)"
   ]
  },
  {
   "cell_type": "markdown",
   "metadata": {},
   "source": [
    "## Estruturas de dados\n",
    "\n",
    "O que são estruturas de dados?\n",
    "\n",
    "Em programação, estruturas de dados são uma forma de organizar, gerir e guardar dados que permitam um acesso e modificação eficientes. Para além disso, tal como os tipos de dados, cada tipo de estrutura de dados tem operadores específicos para os manipular.\n",
    "\n",
    "Em Python, as estruturas de dados mais comuns são as seguintes:\n",
    "\n",
    "1. Listas\n",
    "2. Dicionários\n",
    "3. Tuplos\n",
    "4. Set\n",
    "\n",
    "### Listas\n",
    "\n",
    "As listas são conjuntos de objectos guardados de forma indexada. As listas definem-se usando parênteses rectos e virgulas para separar os elementos."
   ]
  },
  {
   "cell_type": "code",
   "execution_count": 24,
   "metadata": {},
   "outputs": [],
   "source": [
    "nomes = [\"Pedro\", \"Joaquim\", \"Gonçalo\", \"Henrique\"]"
   ]
  },
  {
   "cell_type": "markdown",
   "metadata": {},
   "source": [
    "As listas não têm necessariamente de ser compostas por elementos com tipos de dados iguais."
   ]
  },
  {
   "cell_type": "code",
   "execution_count": 25,
   "metadata": {},
   "outputs": [],
   "source": [
    "numeros = [1, 2, 'III', 'quatro', 5.0]"
   ]
  },
  {
   "cell_type": "markdown",
   "metadata": {},
   "source": [
    "Tal como vimos nas strings, os elementos de uma lista pode ser acedidos através do índice de base zero."
   ]
  },
  {
   "cell_type": "code",
   "execution_count": 26,
   "metadata": {},
   "outputs": [
    {
     "name": "stdout",
     "output_type": "stream",
     "text": [
      "Pedro\n",
      "Joaquim\n",
      "Henrique\n",
      "Gonçalo\n",
      "Joaquim\n"
     ]
    }
   ],
   "source": [
    "nomes = [\"Pedro\", \"Joaquim\", \"Gonçalo\", \"Henrique\"]\n",
    "\n",
    "print(nomes[0])\n",
    "print(nomes[1])\n",
    "print(nomes[-1])\n",
    "print(nomes[-2])\n",
    "print(nomes[-3])"
   ]
  },
  {
   "cell_type": "markdown",
   "metadata": {},
   "source": [
    "Também como as strings, podemos obter um subset de uma lista usando a seguinte forma:"
   ]
  },
  {
   "cell_type": "code",
   "execution_count": 27,
   "metadata": {},
   "outputs": [
    {
     "name": "stdout",
     "output_type": "stream",
     "text": [
      "['Joaquim', 'Gonçalo']\n"
     ]
    }
   ],
   "source": [
    "print(nomes[1:3])"
   ]
  },
  {
   "cell_type": "markdown",
   "metadata": {},
   "source": [
    "Ao contrário das strings, as listas são alteráveis. Podemos substituir valores em determinado índice ou adicionar novos elementos à lista."
   ]
  },
  {
   "cell_type": "code",
   "execution_count": 28,
   "metadata": {},
   "outputs": [
    {
     "name": "stdout",
     "output_type": "stream",
     "text": [
      "['Pedro', 'Joaquim', 'Gonçalo', 'Henrique']\n",
      "['O grande Pedro', 'Joana', 'Gonçalo', 'Henrique', 'Ricardo']\n"
     ]
    }
   ],
   "source": [
    "print(nomes)\n",
    "\n",
    "nomes[0] = 'O grande ' + nomes[0]\n",
    "nomes[1] = 'Joana'\n",
    "nomes.append('Ricardo')\n",
    "\n",
    "print(nomes)"
   ]
  },
  {
   "cell_type": "markdown",
   "metadata": {},
   "source": [
    "Também podemos remover elementos de uma lista usando o operador `del`. Assim como obter e remover o último elemento da lista usando o método pop()."
   ]
  },
  {
   "cell_type": "code",
   "execution_count": 29,
   "metadata": {},
   "outputs": [
    {
     "name": "stdout",
     "output_type": "stream",
     "text": [
      "['Pedro', 'Gonçalo', 'Henrique']\n",
      "Henrique\n",
      "['Pedro', 'Gonçalo']\n"
     ]
    }
   ],
   "source": [
    "nomes = [\"Pedro\", \"Joaquim\", \"Gonçalo\", \"Henrique\"]\n",
    "\n",
    "del nomes[1]\n",
    "\n",
    "print(nomes)\n",
    "\n",
    "print(nomes.pop())\n",
    "\n",
    "print(nomes)"
   ]
  },
  {
   "cell_type": "markdown",
   "metadata": {},
   "source": [
    "Podemos concatenar duas listas."
   ]
  },
  {
   "cell_type": "code",
   "execution_count": 30,
   "metadata": {},
   "outputs": [
    {
     "name": "stdout",
     "output_type": "stream",
     "text": [
      "['Pedro', 'Joaquim', 'Gonçalo', 'Henrique', 'Manuel', 'Eduardo']\n",
      "['Pedro', 'Joaquim', 'Gonçalo', 'Henrique', 'Manuel', 'Eduardo']\n"
     ]
    }
   ],
   "source": [
    "nomes1 = [\"Pedro\", \"Joaquim\", \"Gonçalo\", \"Henrique\"]\n",
    "nomes2 = [\"Manuel\", \"Eduardo\"]\n",
    "\n",
    "nomes_totais = nomes1 + nomes2\n",
    "\n",
    "print(nomes_totais)\n",
    "\n",
    "#Alternativamente, podemos alterar uma lista extendendo-a com outra\n",
    "\n",
    "nomes1.extend(nomes2)\n",
    "\n",
    "print(nomes1)"
   ]
  },
  {
   "cell_type": "markdown",
   "metadata": {},
   "source": [
    "Por fim, é importante referir que as listas podem guardar tudo o que seja representável em Python. Por isso, é possivel termos uma lista de listas, ou uma lista de dicionários."
   ]
  },
  {
   "cell_type": "code",
   "execution_count": 31,
   "metadata": {},
   "outputs": [
    {
     "name": "stdout",
     "output_type": "stream",
     "text": [
      "[1, 2, 3]\n",
      "2\n"
     ]
    }
   ],
   "source": [
    "list_inception = [[1, 2, 3], [\"4\", \"5\", \"6\"], [\"sete\", \"eight\", \"neuf\"]]\n",
    "\n",
    "print(list_inception[0])\n",
    "print(list_inception[0][1])"
   ]
  },
  {
   "cell_type": "markdown",
   "metadata": {},
   "source": [
    "O conjunto de funções que permitem manipular listas é enorme, podem encontrar mais informação [aqui](https://docs.python.org/3/tutorial/datastructures.html#more-on-lists)."
   ]
  },
  {
   "cell_type": "markdown",
   "metadata": {},
   "source": [
    "### Dicionários\n",
    "\n",
    "Dicionários guardam valores e chaves para aceder a esses mesmos valores. As chaves têm de ser strings, mas os valores podem ser tudo o que é representável em Python. \n",
    "\n",
    "Para definir um dicionário, usamos parênteses encaracolados, dois pontos para separar a chave do valor e virgulas para separar cada par chave-valor.\n",
    "\n"
   ]
  },
  {
   "cell_type": "code",
   "execution_count": 3,
   "metadata": {},
   "outputs": [
    {
     "name": "stdout",
     "output_type": "stream",
     "text": [
      "{'nome': 'John', 'apelido': 'Cleese', 'nacionalidade': 'Inglês', 'ano_nascimento': 1961}\n"
     ]
    }
   ],
   "source": [
    "dados = {'nome':'John', 'apelido':'Cleese', 'nacionalidade':'Inglês', 'ano_nascimento':1961, 'ocupacao':['Escrito', 'Actor', 'Comediante']}\n",
    "\n",
    "# Mais fácil de ler\n",
    "dados = {\n",
    "    'nome':'John',\n",
    "    'apelido':'Cleese',\n",
    "    'nacionalidade':'Inglês',\n",
    "    'ano_nascimento':1961\n",
    "}\n",
    "\n",
    "print(dados)\n"
   ]
  },
  {
   "cell_type": "markdown",
   "metadata": {},
   "source": [
    "Ao contrário das lista, os elementos de um dicionário, não têm uma ordem específica. Assim, para aceder a um elemento guardado num dicionário, usamos na mesma a notação dos parênteses rectos, mas em vez de um índice, usamos a chave (key) que o identifica."
   ]
  },
  {
   "cell_type": "code",
   "execution_count": 4,
   "metadata": {},
   "outputs": [
    {
     "name": "stdout",
     "output_type": "stream",
     "text": [
      "Seu nome é John\n",
      "E o seu apelido é Cleese.\n",
      "É Inglês e nasceu em 1961.\n",
      "Tem 60 anos\n"
     ]
    }
   ],
   "source": [
    "\n",
    "print(f\"Seu nome é {dados['nome']}\")\n",
    "print(f\"E o seu apelido é {dados['apelido']}.\")\n",
    "print(f\"É {dados['nacionalidade']} e nasceu em {dados['ano_nascimento']}.\")\n",
    "print(f\"Tem {2021 - dados['ano_nascimento']} anos\")"
   ]
  },
  {
   "cell_type": "markdown",
   "metadata": {},
   "source": [
    "\n",
    "Tal como no caso das listas, podemos guardar todo o tipo de valores, incluíndo outras estruturas de dados como listas ou outros dicionários. No exemplo seguinte, adicionamos um novo elemento `'ocupacao'` ao nosso dicionário que guarda uma lista."
   ]
  },
  {
   "cell_type": "code",
   "execution_count": 6,
   "metadata": {},
   "outputs": [
    {
     "name": "stdout",
     "output_type": "stream",
     "text": [
      "{'nome': 'John', 'apelido': 'Cleese', 'nacionalidade': 'Inglês', 'ano_nascimento': 1961, 'ocupacao': ['Escritor', 'Actor', 'Comediante']}\n",
      "Escritor\n"
     ]
    }
   ],
   "source": [
    "dados['ocupacao'] = ['Escritor', 'Actor', 'Comediante']\n",
    "\n",
    "print(dados)\n",
    "print(dados['ocupacao'][0])"
   ]
  },
  {
   "cell_type": "markdown",
   "metadata": {},
   "source": [
    "Como com as listas, também podemos apagar elementos de um dicionário usando o comando `del`."
   ]
  },
  {
   "cell_type": "code",
   "execution_count": 7,
   "metadata": {},
   "outputs": [
    {
     "name": "stdout",
     "output_type": "stream",
     "text": [
      "{'nome': 'John', 'apelido': 'Cleese', 'ano_nascimento': 1961, 'ocupacao': ['Escritor', 'Actor', 'Comediante']}\n",
      "{'nome': 'John', 'apelido': 'Cleese', 'ano_nascimento': 1961, 'ocupacao': ['Escritor', 'Actor']}\n"
     ]
    }
   ],
   "source": [
    "del dados['nacionalidade']\n",
    "print(dados)\n",
    "\n",
    "del dados['ocupacao'][2]\n",
    "print(dados)"
   ]
  },
  {
   "cell_type": "markdown",
   "metadata": {},
   "source": [
    "### Tuplos\n",
    "\n",
    "Podemos pensar em tuplos como listas imutáveis. São também indexados numericamente começando em 0 e é através do indice que acedemos aos seus elementos. Podem guardar todos os tipos de objectos representáveis em Python. No entanto, uma vez criado um tuplo, não é possível alterá-lo (i.e. eliminar ou alterar elementos, adicionar novos elementos, etc...)\n",
    "\n",
    "Para definir um tuplo, usamos parênteses curvos."
   ]
  },
  {
   "cell_type": "code",
   "execution_count": 1,
   "metadata": {},
   "outputs": [
    {
     "name": "stdout",
     "output_type": "stream",
     "text": [
      "(3.141592653, 2.71828182845, 1.618033988)\n",
      "pi = 3.141592653\n",
      "e = 2.71828182845\n",
      "golden_ratio = 1.618033988\n"
     ]
    }
   ],
   "source": [
    "constantes = (3.141592653, 2.71828182845, 1.618033988)\n",
    "\n",
    "print(constantes)\n",
    "print(f\"pi = {constantes[0]}\")\n",
    "print(f\"e = {constantes[1]}\")\n",
    "print(f\"golden_ratio = {constantes[2]}\")"
   ]
  },
  {
   "cell_type": "markdown",
   "metadata": {},
   "source": [
    "Os tuplos são particularmente úteis quando queremos passar vários valores entre \"blocos de código\". Por exemplo, quando queremos de uma função devolva vários elementos, até porque depois são facilmente atribuíveis a variáveis individuais."
   ]
  },
  {
   "cell_type": "code",
   "execution_count": 4,
   "metadata": {},
   "outputs": [
    {
     "name": "stdout",
     "output_type": "stream",
     "text": [
      "3.141592653\n",
      "2.71828182845\n",
      "1.618033988\n"
     ]
    }
   ],
   "source": [
    "pi, e, golden_ratio = constantes\n",
    "print(pi)\n",
    "print(e)\n",
    "print(golden_ratio)"
   ]
  },
  {
   "cell_type": "markdown",
   "metadata": {},
   "source": [
    "Para mais informação acerca dos tuplos, podemos consultar a seguinte [página](https://docs.python.org/3/tutorial/datastructures.html#tuples-and-sequences)"
   ]
  },
  {
   "cell_type": "markdown",
   "metadata": {},
   "source": [
    "### Sets\n",
    "\n",
    "Os Set são o equivalente aos conjuntos matemáticos. São compostos do elementos de qualquer tipo de dados, sem que haja duplicados. Os sets não são ordenados. Para definir um set, usam-se parênteses encaracolados."
   ]
  },
  {
   "cell_type": "code",
   "execution_count": 10,
   "metadata": {},
   "outputs": [
    {
     "name": "stdout",
     "output_type": "stream",
     "text": [
      "{'Terry Gilliam', 'Terry Jones', 'Graham Chapman', 'John Cleese', 'Eric Idle', 'Michael Palin'}\n"
     ]
    }
   ],
   "source": [
    "monty_python_actors = {'John Cleese', 'Graham Chapman',\t'Terry Gilliam', 'Eric Idle' , 'Terry Jones' , 'Michael Palin'}\n",
    "\n",
    "print(monty_python_actors)"
   ]
  },
  {
   "cell_type": "markdown",
   "metadata": {},
   "source": [
    "Como os sets não são ordenados, não é possível aceder directamente a cada um dos seus elementos. No entanto, por seguirem à risca a lógica dos conjuntos matemáticos, prestam-se a outras operações interessantes, como intersecções e unions."
   ]
  },
  {
   "cell_type": "code",
   "execution_count": 14,
   "metadata": {},
   "outputs": [
    {
     "name": "stdout",
     "output_type": "stream",
     "text": [
      "{'John Cleese'}\n"
     ]
    }
   ],
   "source": [
    "\t\n",
    "\n",
    "monty_python_actors = {'John Cleese', 'Graham Chapman',\t'Terry Gilliam', 'Eric Idle' , 'Terry Jones' , 'Michael Palin'}\n",
    "fawlty_towers_actors = {'John Cleese', 'Prunella Scales', 'Andrew Sachs', 'Connie Booth', 'Ballard Berkeley', 'Brian Hall', 'Renee Roberts', 'Gilly Flower' }\n",
    "\n",
    "both_shows_actors = monty_python_actors & fawlty_towers_actors\n",
    "\n",
    "print(both_shows_actors)\n"
   ]
  },
  {
   "cell_type": "markdown",
   "metadata": {},
   "source": [
    "Porque podemos converter facilmente listas em sets e vice-versa. Os sets podem ser usados para eliminar duplicados de uma lista."
   ]
  },
  {
   "cell_type": "code",
   "execution_count": 13,
   "metadata": {},
   "outputs": [
    {
     "name": "stdout",
     "output_type": "stream",
     "text": [
      "['John Cleese', 'Graham Chapman', 'Terry Gilliam', 'Eric Idle', 'Terry Jones', 'Michael Palin', 'John Cleese', 'Terry Jones']\n",
      "['Terry Gilliam', 'Terry Jones', 'Graham Chapman', 'John Cleese', 'Eric Idle', 'Michael Palin']\n",
      "['Eric Idle', 'Graham Chapman', 'John Cleese', 'Michael Palin', 'Terry Gilliam', 'Terry Jones']\n"
     ]
    }
   ],
   "source": [
    "actors = ['John Cleese', 'Graham Chapman',\t'Terry Gilliam', 'Eric Idle' , 'Terry Jones' , 'Michael Palin', 'John Cleese', 'Terry Jones']\n",
    "print(actors)\n",
    "\n",
    "actors = list(set(actors))\n",
    "print(actors)\n",
    "\n",
    "actors.sort()\n",
    "print(actors)"
   ]
  },
  {
   "cell_type": "markdown",
   "metadata": {},
   "source": [
    "Para mais informação acerca dos sets e seus operadores, podemos consultar a seguinte [página](https://docs.python.org/3/tutorial/datastructures.html#sets)"
   ]
  },
  {
   "cell_type": "markdown",
   "metadata": {},
   "source": [
    "## Controlo de fluxo\n",
    "\n",
    "Em programação, as estruturas de controlo de fluxo são mecanismos que permitem ao programador organizar o código por blocos de linhas de código e ,com base em expressões, determinar os que vão ser executados e quando.\n",
    "\n",
    "### if-elif-else\n",
    "\n",
    "O controlo de fluxo if-elif-else é usado para decidir qual a sequência de comandos a executar, consoante o cumprimentos de determinadas condições. A sintaxe é a seguinte:\n",
    "\n",
    "    if <condicao1>:\n",
    "        # Colocar codigo aqui\n",
    "        # O codigo aqui ira ser executado quando a condicao1 for verdadeira\n",
    "    elif <condicao2>:\n",
    "        # Colocar codigo aqui\n",
    "        # O codigo aqui ira ser executado quando a condicao1 for falsa\n",
    "        # e a condicao2 for verdadeira\n",
    "    else:\n",
    "        # Colocar codigo aqui\n",
    "        # O codigo aqui ira ser executado quando ambas as condicao1 e condicao2 forem falsas\n"
   ]
  },
  {
   "cell_type": "code",
   "execution_count": 15,
   "metadata": {},
   "outputs": [
    {
     "name": "stdout",
     "output_type": "stream",
     "text": [
      "O 12 é maior que 10\n"
     ]
    }
   ],
   "source": [
    "n1 = 12\n",
    "n2 = 10\n",
    "3\n",
    "if n1 > n2:\n",
    "    print(f'O {n1} é maior que {n2}')\n",
    "elif n1 == n2:\n",
    "    print(f'O {n1} é igual a {n2}')\n",
    "else:\n",
    "    print(f'O {n1} é menor que {n2}')"
   ]
  },
  {
   "cell_type": "markdown",
   "metadata": {},
   "source": [
    "\n",
    "\n",
    "É importante relembrar a questão da identação. Cada bloco de código é separado pela indentação comum. Se a meio de um bloco de código existirem linhas com indentação diferentes, sem que haja uma estrutura de controlo de fluxo associado, vai ser gerado um erro. O mesmo acontece se após uma estrutura de controlo de fluxo não existir uma identação diferente.\n",
    "\n"
   ]
  },
  {
   "cell_type": "code",
   "execution_count": 17,
   "metadata": {},
   "outputs": [
    {
     "ename": "IndentationError",
     "evalue": "unindent does not match any outer indentation level (<tokenize>, line 5)",
     "output_type": "error",
     "traceback": [
      "\u001b[0;36m  File \u001b[0;32m\"<tokenize>\"\u001b[0;36m, line \u001b[0;32m5\u001b[0m\n\u001b[0;31m    print('É um belo número')\u001b[0m\n\u001b[0m    ^\u001b[0m\n\u001b[0;31mIndentationError\u001b[0m\u001b[0;31m:\u001b[0m unindent does not match any outer indentation level\n"
     ]
    }
   ],
   "source": [
    "n1 == 0\n",
    "\n",
    "# Este vai dar erro\n",
    "if n1 == 0:\n",
    "    print(n1)\n",
    "  print('É um belo número') #<-- Reparem na indentação\n",
    "\n",
    "# E este também...\n",
    "if n1 == 0:\n",
    "print(n1)\n",
    "print('É um belo número')\n"
   ]
  },
  {
   "cell_type": "markdown",
   "metadata": {},
   "source": [
    "### For-in\n",
    "\n",
    "Quando queremos repetir o mesmo conjunto de comando (um loop), para todos os elementos de uma lista, ou um determinado número de vezes pre-estabelecido, em vez de repetirmos o código as vezes necessárias, é comum em Python usar um ciclo `for`. A sintaxe do `for-in` é a seguinte:\n",
    "\n",
    "for x in lista_de_xs:\n",
    "    # Codigo a executar com base na variável x\n",
    "\n",
    "A \"lista_de_xs\" pode ser uma lista, um dicionário, um tuplo ou qualquer outro objecto iterável (por exemplo uma string).\n",
    "\n"
   ]
  },
  {
   "cell_type": "code",
   "execution_count": 18,
   "metadata": {},
   "outputs": [
    {
     "name": "stdout",
     "output_type": "stream",
     "text": [
      "Terry Gilliam\n",
      "Terry Jones\n",
      "Graham Chapman\n",
      "John Cleese\n",
      "Eric Idle\n",
      "Michael Palin\n"
     ]
    }
   ],
   "source": [
    "actors = ['John Cleese', 'Graham Chapman',\t'Terry Gilliam', 'Eric Idle' , 'Terry Jones' , 'Michael Palin', 'John Cleese', 'Terry Jones']\n",
    "\n",
    "actors = list(set(actors))\n",
    "\n",
    "for actor in actors:\n",
    "    print(actor)"
   ]
  },
  {
   "cell_type": "markdown",
   "metadata": {},
   "source": [
    "No caso das estruturas de dados ordenadas (listas e tuplos, por exemplo), o for segue a sua ordem. Por isso..."
   ]
  },
  {
   "cell_type": "code",
   "execution_count": 19,
   "metadata": {},
   "outputs": [
    {
     "name": "stdout",
     "output_type": "stream",
     "text": [
      "Eric Idle\n",
      "Graham Chapman\n",
      "John Cleese\n",
      "Michael Palin\n",
      "Terry Gilliam\n",
      "Terry Jones\n"
     ]
    }
   ],
   "source": [
    "actors.sort()\n",
    "\n",
    "for actor in actors:\n",
    "    print(actor)"
   ]
  },
  {
   "cell_type": "markdown",
   "metadata": {},
   "source": [
    "Se quisermos repetir um conjunto de instruções um número específico de vezes, podemos usar a função range().\n",
    "Só com um argumento, a função range devolve uma \"lista\" com o comprimento especificado de valores numérico de indice 0. No entanto, é possivel determinar o intervalo a começar noutro número que não o 0 e a que o ``step`` seja diferente de 1. Mais informações sobre a função `range()` [aqui](https://docs.python.org/3/library/functions.html#func-range)."
   ]
  },
  {
   "cell_type": "code",
   "execution_count": 24,
   "metadata": {},
   "outputs": [
    {
     "name": "stdout",
     "output_type": "stream",
     "text": [
      "[0, 1, 2, 3, 4, 5, 6, 7, 8, 9]\n",
      "<class 'range'>\n",
      "0\n",
      "1\n",
      "2\n",
      "3\n",
      "4\n",
      "5\n",
      "6\n",
      "7\n",
      "8\n",
      "9\n"
     ]
    }
   ],
   "source": [
    "for n in range(10):\n",
    "    print(n)"
   ]
  },
  {
   "cell_type": "markdown",
   "metadata": {},
   "source": [
    "Um outro controlo de fluxo de looping útil para repetir instruções é o `While`. Neste caso é mais usado para quando queremos repetir uma série de instruções enquanto determinada condição for verdadeira.\n",
    "\n"
   ]
  },
  {
   "cell_type": "markdown",
   "metadata": {},
   "source": [
    "### Try-expect\n",
    "\n",
    "Quando temos um erro no nosso código ou algo inesperado ocorre durante a sua execução, o interprete Python para a execução e devolve um erro\n",
    "\n",
    "O try-expect é uma estrutura de controlo de fluxo que permite tentar executar determinada bloco de código, mas em caso de erro, executar outro bloco de código, e assim evitar um erro geral python e o fim da execução.\n",
    "A sintaxe é a seguinte:\n",
    "\n",
    "```python\n",
    "try:\n",
    "    # Execute this\n",
    "except:\n",
    "    # Execute this sequence\n",
    "    # if an error occurred. \n",
    "```\n",
    "O próximo comando irá originar um erro, pois a variável que estamos a tentar escrever no ecrã não foi definida. "
   ]
  },
  {
   "cell_type": "code",
   "execution_count": 26,
   "metadata": {},
   "outputs": [
    {
     "ename": "NameError",
     "evalue": "name 'variavel_inexistente' is not defined",
     "output_type": "error",
     "traceback": [
      "\u001b[0;31m---------------------------------------------------------------------------\u001b[0m",
      "\u001b[0;31mNameError\u001b[0m                                 Traceback (most recent call last)",
      "\u001b[0;32m/tmp/ipykernel_10080/30545768.py\u001b[0m in \u001b[0;36m<module>\u001b[0;34m\u001b[0m\n\u001b[0;32m----> 1\u001b[0;31m \u001b[0mprint\u001b[0m\u001b[0;34m(\u001b[0m\u001b[0mvariavel_inexistente\u001b[0m\u001b[0;34m)\u001b[0m\u001b[0;34m\u001b[0m\u001b[0;34m\u001b[0m\u001b[0m\n\u001b[0m\u001b[1;32m      2\u001b[0m \u001b[0mprint\u001b[0m\u001b[0;34m(\u001b[0m\u001b[0;34m'**THE END**'\u001b[0m\u001b[0;34m)\u001b[0m\u001b[0;34m\u001b[0m\u001b[0;34m\u001b[0m\u001b[0m\n",
      "\u001b[0;31mNameError\u001b[0m: name 'variavel_inexistente' is not defined"
     ]
    }
   ],
   "source": [
    "print(variavel_inexistente)\n",
    "print('**THE END**')"
   ]
  },
  {
   "cell_type": "markdown",
   "metadata": {},
   "source": [
    "Usando o try-except, podemos evitar que o programa termine antes do fim."
   ]
  },
  {
   "cell_type": "code",
   "execution_count": 28,
   "metadata": {},
   "outputs": [
    {
     "name": "stdout",
     "output_type": "stream",
     "text": [
      "Ups... parece que houve um erro, mas life goes on\n",
      "**THE END**\n"
     ]
    }
   ],
   "source": [
    "try:\n",
    "    print(variavel_inexistente)\n",
    "except:\n",
    "    print('Ups... parece que houve um erro, mas life goes on')\n",
    "print('**THE END**')"
   ]
  },
  {
   "cell_type": "markdown",
   "metadata": {},
   "source": [
    "É boa prática explicitar no  `Except` qual o erro que estamos a encontrar. Algo que é muito usado quando estamos a tentar abrir um ficheiro ou ligarmo-nos a uma base de dados e não temos a certeza se existe."
   ]
  },
  {
   "cell_type": "code",
   "execution_count": 30,
   "metadata": {},
   "outputs": [
    {
     "name": "stdout",
     "output_type": "stream",
     "text": [
      "Erro: o ficheiro não foi encontrado\n"
     ]
    }
   ],
   "source": [
    "try:\n",
    "    with open('my_memories.txt','r') as f:\n",
    "        for linha in f:\n",
    "            print(linha)\n",
    "except:\n",
    "    print('Erro: o ficheiro não foi encontrado')"
   ]
  },
  {
   "cell_type": "markdown",
   "metadata": {},
   "source": [
    "## Manipulação de ficheiros\n",
    "\n",
    "A leitura e escrita de ficheiros de texto é feita utilizando a função `open`. A sintaxe é:\n",
    "\n",
    "```python\n",
    "open(path_to_filename, modo, encoding(opcional))\n",
    "```\n",
    "\n",
    "O modo pode ser:\n",
    "\n",
    "* \"r\" - Read - Valor por omissão. Abre um ficheiro para consulta. Devolve um erro se o ficheiro não for encontrado.\n",
    "* \"a\" - Append - Abre o ficheiro para adicionar novas linhas. Se o ficheiro não existir, cria-o.\n",
    "* \"w\" - Write - Abre o ficheiro para escrita. Se o ficheiro não existir, cria-o.\n",
    "* \"x\" - Create - Cria um novo ficheiro. Devolve um erro caso o ficheiro já exista.\n",
    "\n",
    "**Nota:** Para manipular ficheiros com formatos específicos existem pacotes adicionais que geralmente facilitam o trabalho (ex: JSON, XML, shapefile, etc.).\n",
    "\n",
    "Se o ficheiro estiver na pasta de onde corremos o o nosso programa, então podemos simplesmente indicar o nome do ficheiro. Caso contrário, temos de indicar o caminho relativo ou absoluto."
   ]
  },
  {
   "cell_type": "code",
   "execution_count": 37,
   "metadata": {},
   "outputs": [
    {
     "name": "stdout",
     "output_type": "stream",
     "text": [
      "Todas as cartas de amor são\n",
      "Ridículas.\n",
      "Não seriam cartas de amor se não fossem\n",
      "Ridículas.\n",
      "\n",
      "Também escrevi em meu tempo cartas de amor,\n",
      "Como as outras,\n",
      "Ridículas.\n",
      "\n",
      "As cartas de amor, se há amor,\n",
      "Têm de ser\n",
      "Ridículas.\n",
      "\n",
      "Mas, afinal,\n",
      "Só as criaturas que nunca escreveram\n",
      "Cartas de amor\n",
      "É que são\n",
      "Ridículas.\n",
      "\n",
      "Quem me dera no tempo em que escrevia\n",
      "Sem dar por isso\n",
      "Cartas de amor\n",
      "Ridículas.\n",
      "\n",
      "A verdade é que hoje\n",
      "As minhas memórias\n",
      "Dessas cartas de amor\n",
      "É que são\n",
      "Ridículas.\n",
      "\n",
      "(Todas as palavras esdrúxulas,\n",
      "Como os sentimentos esdrúxulos,\n",
      "São naturalmente\n",
      "Ridículas).\n",
      "\n",
      "Álvaro de Campos (Fernando Pessoa)\n"
     ]
    }
   ],
   "source": [
    "f = open('poema.txt', 'r')\n",
    "for linha in f:\n",
    "    print(linha.strip()) # strip() eliminar os caracteres vazios\n",
    "\n",
    "f.close()"
   ]
  },
  {
   "cell_type": "markdown",
   "metadata": {},
   "source": [
    "Reparemos que a função `close()` tem o propósito de dizer que já não precisamos do ficheiro e que portanto o podemos eliminar da memória. Uma prática mais aconselhada é usar a expressão `with`. Nesse caso, colocamos tudo o que precisamos de fazer devidamente indentado num único bloco de código e automaticamente o ficheiro é eliminado da memória quando o bloco de código termina.\n"
   ]
  },
  {
   "cell_type": "code",
   "execution_count": 45,
   "metadata": {},
   "outputs": [
    {
     "name": "stdout",
     "output_type": "stream",
     "text": [
      "    Todas as cartas de amor são\n",
      "    Ridículas.\n",
      "    Não seriam cartas de amor se não fossem\n",
      "    Ridículas.\n",
      "\n",
      "    Também escrevi em meu tempo cartas de amor,\n",
      "    Como as outras,\n",
      "    Ridículas.\n",
      "\n",
      "    As cartas de amor, se há amor,\n",
      "    Têm de ser\n",
      "    Ridículas.\n",
      "\n",
      "    Mas, afinal,\n",
      "    Só as criaturas que nunca escreveram\n",
      "    Cartas de amor\n",
      "    É que são\n",
      "    Ridículas.\n",
      "\n",
      "    Quem me dera no tempo em que escrevia\n",
      "    Sem dar por isso\n",
      "    Cartas de amor\n",
      "    Ridículas.\n",
      "\n",
      "    A verdade é que hoje\n",
      "    As minhas memórias\n",
      "    Dessas cartas de amor\n",
      "    É que são\n",
      "    Ridículas.\n",
      "\n",
      "    (Todas as palavras esdrúxulas,\n",
      "    Como os sentimentos esdrúxulos,\n",
      "    São naturalmente\n",
      "    Ridículas).\n",
      "    Álvaro de Campo (Fernando Pessoa)\n",
      "    Álvaro de Campo (Fernando Pessoa)\n",
      "\n",
      "    Álvaro de Campo (Fernando Pessoa)\n"
     ]
    }
   ],
   "source": [
    "# Adicionar o nome do autor do poema no final do ficheiro\n",
    "with open('poema.txt', 'a', encoding='utf-8') as f:\n",
    "    f.write('\\n\\n    Álvaro de Campo (Fernando Pessoa)')\n",
    "\n",
    "with open('poema.txt', 'r') as f:\n",
    "    content = f.read()\n",
    "    print(content)"
   ]
  },
  {
   "cell_type": "markdown",
   "metadata": {},
   "source": [
    "Para mais informações acerca da leitura e manipulação de ficheiros, aconselho a consulta da seguite [página](https://docs.python.org/3.9/tutorial/inputoutput.html#reading-and-writing-files)."
   ]
  },
  {
   "cell_type": "markdown",
   "metadata": {},
   "source": [
    "## Funções\n",
    "\n",
    "Funções em programação são o primeiro nível de modularização. É importante dividir o código em unidades fáceis de gerir.\n",
    "\n",
    "As funções são elementos fundamentais para o desenvolvimento de um estilo de programação simples e legível. Ao agrupar blocos de código de um modo reutilizável torna-se possível:\n",
    "\n",
    "* Dividir programas complexos em partes mais pequenas. Desta forma é mais fácil a compreensão do código por parte de quem o lê. Também é mais fácil testar o código para verificar se funciona corretamente.\n",
    "  \n",
    "* Reutilizar o mesmo código em diversos locais do mesmo programa. Assim, quando é detetado um erro, a correção só precisa de ser feita num único local.\n",
    "\n",
    "Por outro lado, uma função deve resolver um problema pequeno. Por outras palavras, uma função deve executar apenas uma tarefa específica.\n",
    "\n",
    "As funções geralmente aceitam um conjunto de parâmetros e devolvem um valor. Mas há casos em que nenhuma das duas coisas acontece.\n",
    "\n",
    "A sintaxe de criação de uma função é a seguinte:\n",
    "\n",
    "```python\n",
    "def nome_funcao(paremtro1, paremetro2,...):\n",
    "    \"\"\" Texto explicativo da função (Docstring)\n",
    "    \"\"\"\n",
    "\n",
    "    operações com os parametros introduzidos\n",
    "    <...>\n",
    "\n",
    "    return resultado\n",
    "```\n",
    "\n",
    "Os parâmetros são variáveis de qualquer tipo, o mesmo acontece com o valor devolvido. Para executar uma função a sintaxe é a seguinte:\n",
    "\n",
    "    nome_funcao(parametros)\n",
    "  \n",
    "Exemplo de função:"
   ]
  },
  {
   "cell_type": "code",
   "execution_count": 46,
   "metadata": {},
   "outputs": [
    {
     "name": "stdout",
     "output_type": "stream",
     "text": [
      "A área de um circulo com raio 4 é 50.264\n"
     ]
    }
   ],
   "source": [
    "def area_circulo(raio):\n",
    "    \"\"\"Calcula a área de um circulo com base no raio do mesmo.\n",
    "    \"\"\"\n",
    "\n",
    "    area = 3.1415 * raio ** 2\n",
    "\n",
    "    return area\n",
    "\n",
    "r = 4\n",
    "print(f'A área de um círculo de raio {r} é {area_circulo(r)}')"
   ]
  },
  {
   "cell_type": "code",
   "execution_count": 49,
   "metadata": {},
   "outputs": [
    {
     "name": "stdout",
     "output_type": "stream",
     "text": [
      "par\n",
      "ímpar\n"
     ]
    }
   ],
   "source": [
    "def par_ou_impar(numero):\n",
    "    \"\"\" Determina se determinado número é impar ou par\n",
    "    \"\"\"\n",
    "    resto = numero % 2\n",
    "    if resto == 0:\n",
    "        resultado = \"par\"\n",
    "    else:\n",
    "        resultado = \"ímpar\"\n",
    "    return resultado\n",
    "\n",
    "print(par_ou_impar(10))\n",
    "print(par_ou_impar(5))\n"
   ]
  },
  {
   "cell_type": "code",
   "execution_count": 50,
   "metadata": {},
   "outputs": [
    {
     "name": "stdout",
     "output_type": "stream",
     "text": [
      "0 par\n",
      "1 ímpar\n",
      "2 par\n",
      "3 ímpar\n",
      "4 par\n",
      "5 ímpar\n",
      "6 par\n",
      "7 ímpar\n",
      "8 par\n",
      "9 ímpar\n"
     ]
    }
   ],
   "source": [
    "for n in range(10):\n",
    "    print(n, par_ou_impar(n))"
   ]
  },
  {
   "cell_type": "markdown",
   "metadata": {},
   "source": [
    "## Módulos e Pacotes\n",
    "\n",
    "### Módulos\n",
    "Módulo é o nome dado aos ficheiros de código Python. São ficheiros de texto simples, que contêm as instruções a executar por parte de um interprete Python. Por convenção, é costume utilizar as seguinte regras para a criação de módulos:\n",
    "\n",
    "* O nome do ficheiro só deve conter letras, números e o caracter _\n",
    "* Deve ser utilizada a extensão .py\n",
    "\n",
    "### Pacotes\n",
    "\n",
    "Um pacote é uma diretoria que contem módulos Python e que inclui também um ficheiro chamado `__init__.py`. Este ficheiro é necessário para que o interprete Python reconheça uma diretoria como sendo um pacote. As regras para a nomenclatura dos pacotes são semelhantes às dos módulos.\n",
    "\n",
    "**Nota:** Todos os plugins Python do QGIS são pacotes Python, compostos por vários módulos.\n",
    "\n",
    "Dentro de cada módulo o código está organizado em funções e classes.\n",
    "\n",
    "## Reutilização de código\n",
    "\n",
    "Um dos principais benefícios da organização em pacotes e módulos é a possibilidade de reutilização do código em vários programas. Esta possibilidade é aproveitada por inúmeros programadores que disponibilizam o seu código de forma livre, para que possa ser utilizado por outros.\n",
    "\n",
    "Desta forma, e graças à coleção enorme de pacotes que já estão disponíveis no Python, o trabalho de um programador é mais focado na procura das soluções para os seus problemas e não tanto na re-invenção dessas mesmas soluções.\n",
    "\n",
    "O processo de reutilizar um módulo dentro de outro chama-se importação. No Python é possível importar:\n",
    "\n",
    "* pacotes\n",
    "* módulos\n",
    "* funções e classes\n",
    "* variáveis\n",
    "\n",
    "Existem várias formas de importar código:\n",
    "\n",
    "* `import nome_modulo` – Para importar um módulo inteiro, usando o seu nome\n",
    "verdadeiro\n",
    "\n",
    "* `import nome_modulo as alcunha_modulo` – Para importar um módulo inteiro\n",
    "usando um outro nome\n",
    "\n",
    "* `from nome_modulo import nome_item` – Para importar apenas uma função,\n",
    "classe ou variável de um módulo\n",
    "\n",
    "Embora seja possível importar todo um módulo, a partir do python 3, é aconselhado a apenas se importar as funções, classes e variáveis que vão ser necessárias usar.\n",
    "\n",
    "Exemplos:"
   ]
  },
  {
   "cell_type": "code",
   "execution_count": 1,
   "metadata": {},
   "outputs": [
    {
     "data": {
      "text/plain": [
       "'/home/aneto/Trabalho/PyQGISCourse/jupyter-notebooks/notebooks'"
      ]
     },
     "execution_count": 1,
     "metadata": {},
     "output_type": "execute_result"
    }
   ],
   "source": [
    "import os # importar o módulo ‘os’\n",
    "os.getcwd() # chamar a função getcwd() do módulo ‘os’"
   ]
  },
  {
   "cell_type": "code",
   "execution_count": 2,
   "metadata": {},
   "outputs": [
    {
     "data": {
      "text/plain": [
       "datetime.datetime(2021, 12, 6, 23, 25, 36, 321593)"
      ]
     },
     "execution_count": 2,
     "metadata": {},
     "output_type": "execute_result"
    }
   ],
   "source": [
    "import datetime as dt # importar o módulo ‘datetime’ com a alcunha ‘dt’\n",
    "dt.datetime.now() # chamar a função datetime.now()"
   ]
  },
  {
   "cell_type": "code",
   "execution_count": 4,
   "metadata": {},
   "outputs": [
    {
     "data": {
      "text/plain": [
       "'3.8.10 (default, Sep 28 2021, 16:10:42) \\n[GCC 9.3.0]'"
      ]
     },
     "execution_count": 4,
     "metadata": {},
     "output_type": "execute_result"
    }
   ],
   "source": [
    "from sys import version # importar a variável ‘version’ do módulo\n",
    "version"
   ]
  },
  {
   "cell_type": "markdown",
   "metadata": {},
   "source": [
    "Por convenção, no Python a importação de código externo deve ser sempre feita no topo de cada módulo. Desta forma é mais fácil de identificar qual o código que estamos a reutilizar."
   ]
  },
  {
   "cell_type": "markdown",
   "metadata": {},
   "source": [
    "### Pacotes e módulos úteis\n",
    "\n",
    "A biblioteca-padrão do Python inclui bastantes pacotes e módulos úteis. Além disso, é possível instalar ainda mais pacotes. Aqui ficam algumas sugestões. \n",
    "\n",
    "#### Módulos que vêm incluídos com o Python\n",
    "\n",
    "*  `os`, `shutil`, `pathlib` – interação com o sistema de ficheiros, incluindo navegação entre diretorias, listagens de ficheiros, etc.\n",
    "* `Datetime` – cálculos com datas e horas\n",
    "* `io` - acesso a ficheiros de texto e binários\n",
    "* `json`, `xml`, `csv` – Manipulação de ficheiros de texto com formatos específicos\n",
    "* `math`, `decimal`, `random` – Manipulação de números e funções matemáticas comuns\n",
    "* `re`, `fnmatch`, `glob` – Procura de padrões em strings\n",
    "* `subprocess`, `concurrent.futures`, `asyncio` – Utilização de processos externos, computação concorrente.\n",
    "\n",
    "#### Módulos adicionais, instaláveis a partir da Internet\n",
    "* `numpy`, `scipy`, `matplolib` – Estruturas matriciais e funções para trabalho nos domínios da ciência e engenharia (já vêm incluídos com a instalação do QGIS em Windows)\n",
    "* `fiona`, `shapely`, `osgeo` – Manipulação de diversos formatos geográficos raster e vetorial (também vêm incluídos com a instalação do QGIS em Windows)\n",
    "* `requests` – Execução de pedidos HTTP e manipulação das respetivas respostas\n",
    "* `django`, `flask` – Criação de aplicações web\n",
    "* `sqlalchemy` – Manipulação de bases de dados\n"
   ]
  }
 ],
 "metadata": {
  "interpreter": {
   "hash": "916dbcbb3f70747c44a77c7bcd40155683ae19c65e1c03b4aa3499c5328201f1"
  },
  "kernelspec": {
   "display_name": "Python 3 (ipykernel)",
   "language": "python",
   "name": "python3"
  },
  "language_info": {
   "codemirror_mode": {
    "name": "ipython",
    "version": 3
   },
   "file_extension": ".py",
   "mimetype": "text/x-python",
   "name": "python",
   "nbconvert_exporter": "python",
   "pygments_lexer": "ipython3",
   "version": "3.8.10"
  }
 },
 "nbformat": 4,
 "nbformat_minor": 2
}

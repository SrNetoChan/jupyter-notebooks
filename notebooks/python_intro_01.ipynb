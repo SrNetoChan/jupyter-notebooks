{
 "cells": [
  {
   "cell_type": "markdown",
   "metadata": {},
   "source": [
    "# Introdução ao Python\n",
    "\n",
    "Iremos usar este notebook para explorar os principais elementos do Python. Como seria de esperar, nem todos operadores e tipos de dados serão abrangidos nesta introdução, por essa razão será sempre útil ter à mão a [documentação oficial do Python](https://docs.python.org/3/).\n",
    "\n",
    "**Nota:** Notebooks jupyter não são consideradas ferramentas de programação, são antes ferramentas usadas na exploração preliminar de dados e são especialmente úteis em contextos de formação, como é o nosso caso.\n",
    "\n"
   ]
  },
  {
   "cell_type": "markdown",
   "metadata": {},
   "source": [
    "## Variáveis\n",
    "\n",
    "Em Python, as variáveis são etiquetas com nomes que apontam para valores(objectos). A contrário de outras linguagens de programação, em Python, a declaração de uma variável e atribuição de um valor é feita num único passo usando o operador `=`. Ao longo do tempo de vida de um programa ou script a mesma variavel pode mudar de valor e ate mudar de tipo de valores."
   ]
  },
  {
   "cell_type": "code",
   "execution_count": null,
   "metadata": {},
   "outputs": [],
   "source": [
    "a = 10\n",
    "b = 2\n",
    "nome = 'Artur'\n",
    "\n",
    "print(a, b, nome)\n",
    "\n",
    "# Mudar valor da variavel\n",
    "nome  = 'Lancelot'\n",
    "\n",
    "print(a, b, nome)"
   ]
  },
  {
   "cell_type": "markdown",
   "metadata": {},
   "source": [
    "> **Nota - Comentarios** Se quisermos adicionar comentarios no nosso codigo python, pratica muito comum e desejavel, fazemos com recurso ao caracter `#`. Em Python, na mesma linha, tudo o que vier a direita de um # e ignorado"
   ]
  },
  {
   "cell_type": "markdown",
   "metadata": {},
   "source": [
    "As regras fundamentais para nomear as variáveis são:\n",
    "\n",
    "1. O nome de uma variável deve começar com uma letra ou um underscore\n",
    "2. Os nomes de variáveis só devem ter caracteres alfanuméricos (a-z, A-Z, 0-9) e underscores.\n",
    "\n",
    "Para além disso, são recomendadas as seguinte regras na escolha de nomes de variáveis:\n",
    "\n",
    "1. Um bom nome de uma variável tem um significado explícito - tem de ser possível adivinhar o objectivo da mesma apartir do seu nome.\n",
    "2. Um bom nome de uma variável deve ser curto para evitar a poluição visual\n",
    "\n",
    "Por exemplo, compare:\n",
    "\n",
    "> `a = b * c`\n",
    "\n",
    "Com:\n",
    "\n",
    "> `area_rectangulo = altura * largura`\n"
   ]
  },
  {
   "cell_type": "markdown",
   "metadata": {},
   "source": [
    "Uma variável para existir, terá de ser declarada anteriormente com um valor. Se isso não for feito, ao tentarmos usar uma variável que não foi iniciada, vamos obter um erro."
   ]
  },
  {
   "cell_type": "code",
   "execution_count": null,
   "metadata": {},
   "outputs": [],
   "source": [
    "print(z)"
   ]
  },
  {
   "cell_type": "markdown",
   "metadata": {},
   "source": [
    " Quando precisamos de criar uma variável \"vazia\" usamos a palavra reservada `None`."
   ]
  },
  {
   "cell_type": "code",
   "execution_count": null,
   "metadata": {},
   "outputs": [],
   "source": [
    "z = None\n",
    "print(z)"
   ]
  },
  {
   "cell_type": "markdown",
   "metadata": {},
   "source": [
    "A gestão de memória no Python e automática, quando um determinado valor/objecto deixa de ser usado, o gestor de memória encarrega-se de o eliminar da memória para libertar espaco para outras coisas."
   ]
  },
  {
   "cell_type": "markdown",
   "metadata": {},
   "source": [
    "## Tipos de dados\n",
    "\n",
    "Em python existem os seguintes tipos de dados:\n",
    "\n",
    "* Números (inteiros, float e complexo)\n",
    "* Textos (uma cadeia de caracteres)\n",
    "* Boleanos (valores logicos: `True` e `False`)\n",
    "\n",
    "Cada data type define um domínio (i.e., conjunto aceitável de valores) e operadores que podem trabalhar com eles.\n",
    "\n",
    "### Números\n",
    "\n",
    "#### Tipos de números\n",
    "\n",
    "Os números em python podem ser inteiros, float ou complexos\n",
    "\n",
    "Exemplos de numero inteiros:"
   ]
  },
  {
   "cell_type": "code",
   "execution_count": null,
   "metadata": {},
   "outputs": [],
   "source": [
    "\n",
    "n1 = 0\n",
    "n2 = 24\n",
    "n3 = -50\n",
    "n4 =  34453536363"
   ]
  },
  {
   "cell_type": "markdown",
   "metadata": {},
   "source": [
    "Exemplos de numeros float (reais):"
   ]
  },
  {
   "cell_type": "code",
   "execution_count": null,
   "metadata": {},
   "outputs": [],
   "source": [
    "f1 = 0.1\n",
    "f2 = -1.212\n",
    "f3 = 1231212312.0\n",
    "f4 = -1214456.12123"
   ]
  },
  {
   "cell_type": "markdown",
   "metadata": {},
   "source": [
    "Podemos ver o tipo de numero/dado usando a funcao type()"
   ]
  },
  {
   "cell_type": "code",
   "execution_count": null,
   "metadata": {},
   "outputs": [],
   "source": [
    "print(type(n1))\n",
    "print(type(f1))"
   ]
  },
  {
   "cell_type": "markdown",
   "metadata": {},
   "source": [
    "#### Exercisio:\n",
    "\n",
    "Analise e corra o seguinte codigo:"
   ]
  },
  {
   "cell_type": "code",
   "execution_count": null,
   "metadata": {},
   "outputs": [],
   "source": [
    "number = 50\n",
    "number = -22\n",
    "number = 1.2345"
   ]
  },
  {
   "cell_type": "markdown",
   "metadata": {},
   "source": [
    "Consegue adivinhar qual o valor final da variável `number`? Escreva em baixo o código que confirma a sua resposta."
   ]
  },
  {
   "cell_type": "code",
   "execution_count": null,
   "metadata": {},
   "outputs": [],
   "source": [
    "# Escreva o codigo abaixo desta linha"
   ]
  },
  {
   "cell_type": "markdown",
   "metadata": {},
   "source": [
    "#### Operadores aritméticos\n",
    "\n",
    "O Python trás nativamente os operadores aritméticos mais comuns, como sejam:\n",
    "\n",
    "\n",
    "| nome         | Operador  |\n",
    "|--------------|-----------|\n",
    "| Adicao | `+`  |\n",
    "| Subtraccao      | `-`  |\n",
    "| Multiplicação | `*` |\n",
    "| Divisão | `/` |\n",
    "| Quoficiente da divisão inteira | `//` |\n",
    "| Resto da divisão inteira| `%` |\n",
    "| Potência | `**` |"
   ]
  },
  {
   "cell_type": "code",
   "execution_count": null,
   "metadata": {},
   "outputs": [],
   "source": [
    "n1 = 10\n",
    "n2 = 3\n",
    "\n",
    "print(n1 + n2)\n",
    "print(n1 * n2)\n",
    "print(n1 / n2)\n",
    "print(n1 // n2)\n",
    "print(n1 % n2)\n",
    "print(n1 ** n2)"
   ]
  },
  {
   "cell_type": "markdown",
   "metadata": {},
   "source": [
    "Com a excepção dos operadores de quociente e resto, todos os outros operadores podem ser usados com outros tipos de números.\n",
    "\n",
    "Paralelamente, através da instalação de bibliotecas especializadas, é possível adicionar outros tipos de dados numéricos e respectivos operadores. Veremos como carregar outras bibliotecas mais à frente no curso."
   ]
  },
  {
   "cell_type": "markdown",
   "metadata": {},
   "source": [
    "### Strings (text)\n",
    "\n",
    "#### Como representar Strings\n",
    "\n",
    "As strings, habitualmente traduzidas como cadeia de caracteres ou texto, servem para guardar caracteres individuais, palavras, frases, textos. São objectos imutáveis.\n",
    "\n",
    "Representam-se de três formas possíveis:\n",
    "\n",
    "* Pelicas\n",
    "* Aspas\n",
    "* Aspas tripas"
   ]
  },
  {
   "cell_type": "code",
   "execution_count": null,
   "metadata": {},
   "outputs": [],
   "source": [
    "s1 = 'Hello, there! I am a string defined with single quotes. Therefore, I have no problems representing double quotes (\")!'\n",
    "s2 = \"Hello, there! I'm a string defined with double quotes. Therefore, I have no problems representing single quotes (')!\"\n",
    "s3 = \"\"\"\n",
    "Hello, there! I'm a string defined with triple quotes.\n",
    "Not only I don't have problems representing double quotes (\") or single quotes (')\n",
    "but I am also multi line by nature. \"\"\""
   ]
  },
  {
   "cell_type": "markdown",
   "metadata": {},
   "source": [
    "A escolha entre pelicas ou aspas é uma questão de estilo ou escolha pessoal. É no entanto conveniente ser-se coerente com essa escolha. Pessoalmente, prefiro o uso das pelicas por serem mais rápidas de escrever, mas tornam a escrita em inglês mais complicada.\n",
    "\n",
    "O uso das asplas triplas guarda-se geralmente para as doc-strings, onde descrevemos as funcionalidade de uma função.\n",
    "\n",
    "Se numa string representada por meio de pelicas, quisermos representar uma pelica, podemos usar o caractere de escape \\. Este caractere também é necessário de usar para caminhos de ficheiros em windows."
   ]
  },
  {
   "cell_type": "code",
   "execution_count": null,
   "metadata": {},
   "outputs": [],
   "source": [
    "s5 = 'Hello, there! I'm a string defined with single quotes.'\n",
    "print(s5)\n"
   ]
  },
  {
   "cell_type": "code",
   "execution_count": null,
   "metadata": {},
   "outputs": [],
   "source": [
    "s5 = 'Hello, there! I\\'m a string defined with single quote with a escape caracter.'\n",
    "print(s5)\n"
   ]
  },
  {
   "cell_type": "code",
   "execution_count": null,
   "metadata": {},
   "outputs": [],
   "source": [
    "\n",
    "path = 'c:\\users\\arthur\\deskop\\my_file.py'\n",
    "print(path)\n"
   ]
  },
  {
   "cell_type": "code",
   "execution_count": null,
   "metadata": {},
   "outputs": [],
   "source": [
    "\n",
    "path = 'c:\\\\users\\\\arthur\\\\deskop\\\\my_file.py'\n",
    "print(path)"
   ]
  },
  {
   "cell_type": "markdown",
   "metadata": {},
   "source": [
    "#### Operadores sobre strings\n",
    "\n",
    "As string são indexadas por inteiros com começo em zero, e podem ser acedidas com base nesse índice."
   ]
  },
  {
   "cell_type": "code",
   "execution_count": null,
   "metadata": {},
   "outputs": [],
   "source": [
    "nome = 'Holy grail'\n",
    "\n",
    "print(nome[0]) # indice 0 Para obter o primeiro caracter\n",
    "print(nome[-1]) # indice -1 para obter o último caracter\n",
    "print(nome[5:]) # Para obter os primeiros X caracteres\n",
    "print(nome[:-4]) # Para obter os ultimos X caracteres\n",
    "print(nome[2:6]) # Para obter os caracteres dentro de um intervalo. Atenção que o último caracter é excluído."
   ]
  },
  {
   "cell_type": "markdown",
   "metadata": {},
   "source": [
    "Algumas operações aritméticas também funcionam com strings. Por exemplo, a concatenação de duas strings pode ser feita com o operador `+`"
   ]
  },
  {
   "cell_type": "code",
   "execution_count": null,
   "metadata": {},
   "outputs": [],
   "source": [
    "s1 = 'Olá, o meu nome é '\n",
    "s2 = 'Zeferino'\n",
    "\n",
    "s3 = s1 + s2 \n",
    "\n",
    "print(s3)"
   ]
  },
  {
   "cell_type": "markdown",
   "metadata": {},
   "source": [
    "Também podemos efectuar a multiplicação de uma string por um inteiro."
   ]
  },
  {
   "cell_type": "code",
   "execution_count": null,
   "metadata": {},
   "outputs": [],
   "source": [
    "print(\"Olá! \" * 3 + 'Zeferino.')"
   ]
  },
  {
   "cell_type": "markdown",
   "metadata": {},
   "source": [
    "Existe uma longa lista de métodos (funções intrínsecas de um objecto) para strings que podem ser consultadas [aqui](https://docs.python.org/3/library/string.html). Por exemplo, se quisermos converter uma string para maiúsculas podemos usar o método `upper`, mas também podemos usar o método `lower` para tornar todos os caracteres em minúsculas.\n"
   ]
  },
  {
   "cell_type": "code",
   "execution_count": null,
   "metadata": {},
   "outputs": [],
   "source": [
    "nome = 'Holy grail'\n",
    "\n",
    "print(nome.upper())\n",
    "print(nome.lower())\n",
    "print(nome.title())\n"
   ]
  },
  {
   "cell_type": "markdown",
   "metadata": {},
   "source": [
    "Podemos determinar o comprimento de uma string através da função `len()`."
   ]
  },
  {
   "cell_type": "code",
   "execution_count": null,
   "metadata": {},
   "outputs": [],
   "source": [
    "s1 = 'paralelipípedo'\n",
    "print(len(s1))"
   ]
  },
  {
   "cell_type": "markdown",
   "metadata": {},
   "source": [
    "f-strings são string parametrizáveis. Quer isso dizer que podemos inserir valores em partes específicas do texto."
   ]
  },
  {
   "cell_type": "code",
   "execution_count": null,
   "metadata": {},
   "outputs": [],
   "source": [
    "nome = 'Pedro'\n",
    "altura = 1.78\n",
    "\n",
    "print(f\"O {nome} tem {altura} m de altura.\")\n",
    "\n",
    "nome = 'Joaquim'\n",
    "altura = 1.96'\n",
    "\n",
    "print(f\"O {nome} tem {altura} m de altura.\")"
   ]
  },
  {
   "cell_type": "markdown",
   "metadata": {},
   "source": [
    "Uma outra forma de inserir valores dentro de strings é usar o método `format()`. Neste exemplo, ainda decidimos formatar o número com apenas 2 casas décimais.\n"
   ]
  },
  {
   "cell_type": "code",
   "execution_count": null,
   "metadata": {},
   "outputs": [],
   "source": [
    "\n",
    "nome = 'Pedro'\n",
    "altura = 1.785\n",
    "\n",
    "s = \"O {} tem {:.2f} m de altura.\".format(nome, altura)\n",
    "print(s)"
   ]
  },
  {
   "cell_type": "markdown",
   "metadata": {},
   "source": [
    "### Boleanos\n",
    "\n",
    "#### Como definir valores boleanos\n",
    "\n",
    "Apenas existem dois valores boleanos diferentes: `True` e `False`.\n",
    "\n",
    "Em programação é comum termos de comparar coisas, é maior, é menor, é igual, etc...\n",
    "\n",
    "A comparação segundo a order alfabética ou numérica é feita como em matemática.\n",
    "\n",
    "* `a > b` - a é maior b\n",
    "* `a >= b` - a é maior ou igual a b\n",
    "* `a < b` - a é menor que b\n",
    "* `a <= b` - a é menor ou igual a b\n",
    "* `a == b` - a é igual a b\n",
    "* `a != b` - a é different de b"
   ]
  },
  {
   "cell_type": "markdown",
   "metadata": {},
   "source": [
    "#### Exercício\n",
    "\n",
    "Teste a comparação entre alguns números e textos"
   ]
  },
  {
   "cell_type": "code",
   "execution_count": null,
   "metadata": {},
   "outputs": [],
   "source": [
    "# Colocar o código abaixo desta linha"
   ]
  },
  {
   "cell_type": "markdown",
   "metadata": {},
   "source": [
    "#### Operadores com boleanos\n",
    "\n",
    "Os operadores boleanos são o and, or e o not, entre outros."
   ]
  },
  {
   "cell_type": "code",
   "execution_count": null,
   "metadata": {},
   "outputs": [],
   "source": [
    "verdadeiro = True\n",
    "falso = False\n",
    "\n",
    "print(verdadeiro and falso)\n",
    "print(verdadeiro or falso)\n",
    "print(not verdadeiro)"
   ]
  },
  {
   "cell_type": "markdown",
   "metadata": {},
   "source": [
    "## Estruturas de dados\n",
    "\n",
    "O que são estruturas de dados?\n",
    "\n",
    "Em programação, estruturas de dados são uma forma de organizar, gerir e guardar dados que permitam um acesso e modificação eficientes. Para além disso, tal como os tipos de dados, cada tipo de estrutura de dados tem operadores específicos para os manipular.\n",
    "\n",
    "Em Python, as estruturas de dados mais comuns são as seguintes:\n",
    "\n",
    "1. Listas\n",
    "2. Dicionários\n",
    "3. Tuplos\n",
    "4. Set\n",
    "\n",
    "### Listas\n",
    "\n",
    "As listas são conjuntos de objectos guardados de forma indexada. As listas definem-se usando parênteses rectos e virgulas para separar os elementos."
   ]
  },
  {
   "cell_type": "code",
   "execution_count": null,
   "metadata": {},
   "outputs": [],
   "source": [
    "nomes = [\"Pedro\", \"Joaquim\", \"Gonçalo\", \"Henrique\"]"
   ]
  },
  {
   "cell_type": "markdown",
   "metadata": {},
   "source": [
    "As listas não têm necessariamente de ser compostas por elementos com tipos de dados iguais."
   ]
  },
  {
   "cell_type": "code",
   "execution_count": null,
   "metadata": {},
   "outputs": [],
   "source": [
    "numeros = [1, 2, 'III', 'quatro', 5.0]"
   ]
  },
  {
   "cell_type": "markdown",
   "metadata": {},
   "source": [
    "Tal como vimos nas strings, os elementos de uma lista pode ser acedidos através do índice de base zero."
   ]
  },
  {
   "cell_type": "code",
   "execution_count": null,
   "metadata": {},
   "outputs": [],
   "source": [
    "nomes = [\"Pedro\", \"Joaquim\", \"Gonçalo\", \"Henrique\"]\n",
    "\n",
    "print(nomes[0])\n",
    "print(nomes[1])\n",
    "print(nomes[-1])\n",
    "print(nomes[-2])\n",
    "print(nomes[-3])"
   ]
  },
  {
   "cell_type": "markdown",
   "metadata": {},
   "source": [
    "Também como as strings, podemos obter um subset de uma lista usando a seguinte forma:"
   ]
  },
  {
   "cell_type": "code",
   "execution_count": null,
   "metadata": {},
   "outputs": [],
   "source": [
    "print(nomes[1:3])"
   ]
  },
  {
   "cell_type": "markdown",
   "metadata": {},
   "source": [
    "Ao contrário das strings, as listas são alteráveis. Podemos substituir valores em determinado índice ou adicionar novos elementos à lista."
   ]
  },
  {
   "cell_type": "code",
   "execution_count": null,
   "metadata": {},
   "outputs": [],
   "source": [
    "print(nomes)\n",
    "\n",
    "nomes[0] = 'O grande ' + nomes[0]\n",
    "nomes[1] = 'Joana'\n",
    "nomes.append('Ricardo')\n",
    "\n",
    "print(nomes)"
   ]
  },
  {
   "cell_type": "markdown",
   "metadata": {},
   "source": [
    "Também podemos remover elementos de uma lista usando o operador `del`. Assim como obter e remover o último elemento da lista usando o método pop()."
   ]
  },
  {
   "cell_type": "code",
   "execution_count": null,
   "metadata": {},
   "outputs": [],
   "source": [
    "nomes = [\"Pedro\", \"Joaquim\", \"Gonçalo\", \"Henrique\"]\n",
    "\n",
    "del nomes[1]\n",
    "\n",
    "print(nomes)\n",
    "\n",
    "print(nomes.pop())\n",
    "\n",
    "print(nomes)"
   ]
  },
  {
   "cell_type": "markdown",
   "metadata": {},
   "source": [
    "Podemos concatenar duas listas."
   ]
  },
  {
   "cell_type": "code",
   "execution_count": null,
   "metadata": {},
   "outputs": [],
   "source": [
    "nomes1 = [\"Pedro\", \"Joaquim\", \"Gonçalo\", \"Henrique\"]\n",
    "nomes2 = [\"Manuel\", \"Eduardo\"]\n",
    "\n",
    "nomes_totais = nomes1 + nomes2\n",
    "\n",
    "print(nomes_totais)\n",
    "\n",
    "#Alternativamente, podemos alterar uma lista extendendo-a com outra\n",
    "\n",
    "nomes1.extend(nomes2)\n",
    "\n",
    "print(nomes1)"
   ]
  },
  {
   "cell_type": "markdown",
   "metadata": {},
   "source": [
    "Por fim, é importante referir que as listas podem guardar tudo o que seja representável em Python. Por isso, é possivel termos uma lista de listas, ou uma lista de dicionários."
   ]
  },
  {
   "cell_type": "code",
   "execution_count": null,
   "metadata": {},
   "outputs": [],
   "source": [
    "list_inception = [[1, 2, 3], [\"4\", \"5\", \"6\"], [\"sete\", \"eight\", \"neuf\"]]\n",
    "\n",
    "print(list_inception[0])\n",
    "print(list_inception[0][1])"
   ]
  },
  {
   "cell_type": "markdown",
   "metadata": {},
   "source": [
    "O conjunto de funções que permitem manipular listas é enorme, podem encontrar mais informação [aqui](https://docs.python.org/3/tutorial/datastructures.html#more-on-lists)."
   ]
  },
  {
   "cell_type": "markdown",
   "metadata": {},
   "source": [
    "### Dicionários\n",
    "\n",
    "Dicionários guardam valores e chaves para aceder a esses mesmos valores. As chaves têm de ser strings, mas os valores podem ser tudo o que é representável em Python. Ao contrário das lista, os elementos de um dicionário, não têm uma ordem específica.\n",
    "\n",
    "Para definir um dicionário, usamos parentesis encaracolados, dois pontos para separar a chave do valor e virgulas para separar cada par chave-valor."
   ]
  },
  {
   "cell_type": "code",
   "execution_count": 1,
   "metadata": {},
   "outputs": [
    {
     "name": "stdout",
     "output_type": "stream",
     "text": [
      "{'nome': 'John', 'apelido': 'Cleese', 'nacionalidade': 'Inglês', 'ano_nascimento': 1961, 'ocupacao': ['Escrito', 'Actor', 'Comediante']}\n",
      "Seu nome é John Cleese.\n",
      "É Inglês e nasceu em 1961.\n",
      "Tem 60 anos\n"
     ]
    }
   ],
   "source": [
    "dados = {'nome':'John', 'apelido':'Cleese', 'nacionalidade':'Inglês', 'ano_nascimento':1961, 'ocupacao':['Escrito', 'Actor', 'Comediante']}\n",
    "\n",
    "# Mais fácil de ler\n",
    "dados = {\n",
    "    'nome':'John',\n",
    "    'apelido':'Cleese',\n",
    "    'nacionalidade':'Inglês',\n",
    "    'ano_nascimento':1961,\n",
    "    'ocupacao':[\n",
    "        'Escrito',\n",
    "        'Actor',\n",
    "        'Comediante'\n",
    "        ]\n",
    "}\n",
    "\n",
    "print(dados)\n",
    "print(f\"Seu nome é {dados['nome']} {dados['apelido']}.\")\n",
    "print(f\"É {dados['nacionalidade']} e nasceu em {dados['ano_nascimento']}.\")\n",
    "print(f\"Tem {2021 - dados['ano_nascimento']} anos\")"
   ]
  },
  {
   "cell_type": "markdown",
   "metadata": {},
   "source": [
    "\n",
    "Para melhor visualizarmmos os dados podemos mudar de linha"
   ]
  }
 ],
 "metadata": {
  "interpreter": {
   "hash": "916dbcbb3f70747c44a77c7bcd40155683ae19c65e1c03b4aa3499c5328201f1"
  },
  "kernelspec": {
   "display_name": "Python 3.8.10 64-bit",
   "language": "python",
   "name": "python3"
  },
  "language_info": {
   "codemirror_mode": {
    "name": "ipython",
    "version": 3
   },
   "file_extension": ".py",
   "mimetype": "text/x-python",
   "name": "python",
   "nbconvert_exporter": "python",
   "pygments_lexer": "ipython3",
   "version": "3.8.10"
  },
  "orig_nbformat": 4
 },
 "nbformat": 4,
 "nbformat_minor": 2
}

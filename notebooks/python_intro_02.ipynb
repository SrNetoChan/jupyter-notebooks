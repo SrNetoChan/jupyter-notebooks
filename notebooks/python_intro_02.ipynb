{
 "cells": [
  {
   "cell_type": "markdown",
   "metadata": {},
   "source": [
    "# Módulo M2 – Programação Orientada a Objetos\n",
    "\n",
    "## Paradigmas da programação\n",
    "\n",
    "Em programação existem vários formas diferentes de atingir os mesmos objetivos. Assim, existem vários paradigmas de programação:\n",
    "\n",
    "* **Programação orientada a objetos** – É um estilo muito popular, caracterizado pela agregação de dados e procedimentos em unidades de código. É o paradigma mais utilizado atualmente. É também o paradigma utilizado no QGIS;\n",
    "\n",
    "* **Programação imperativa** - Baseia-se sobretudo na utilização de expressões que vão modificando o estado do programa. Este paradigma é mais semelhante com a forma como os sistemas físicos de hardware estão organizados;\n",
    "\n",
    "* **Programação declarativa** - Baseia-se mais na declaração dos resultados esperados e não tanto na definição de quais os comandos que devem ser executados para alcançar esses resultados. Este paradigma está mais próximo da linguagem humana;\n",
    "\n",
    "* **Programação funcional** - Este paradigma está próximo da programação declarativa, mas baseia-se sobretudo na definição de funções e procedimentos matemáticos, encorajando a utilização de técnicas recursivas e estruturas imutáveis;\n",
    "  \n",
    "* etc.\n",
    "  \n",
    "O Python é uma linguagem de programação multi-paradigma. Permite-nos utilizar qualquer um dos paradigmas e até misturá-los da forma mais conveniente. Esta é uma das razões da sua popularidade.\n"
   ]
  },
  {
   "cell_type": "markdown",
   "metadata": {},
   "source": [
    "\n",
    "## Programação orientada a objectos\n",
    "A programação orientada a objetos (OOP – Object Oriented Programming) é um paradigma de programação que se baseia no conceito de objetos.\n",
    "\n",
    "Objetos são estruturas que agregam dados e procedimentos. Em Python, referimo-nos aos dados de um objeto como os seus **atributos** e aos procedimentos de um objeto como os seus **métodos**. Também utilizamos o termo “propriedades” para nos referirmos ao atributos e métodos. Assim, neste paradigma de programação, a execução de um programa consiste na criação de objetos e na sua interação. Existem vários aspetos interessantes na programação OOP:\n",
    "\n",
    "* **Herança** - Uma classe de objecto pode herdar propriedades de outra; \n",
    "* **Associação** - Uma classe pode estar relacionada com outra;\n",
    "* **Polimorfismo** - Uma subclasse pode ter propriedades que se sobrepõem à sua classe de base;\n",
    "* **Encapsulamento** - Os atributos de um objecto só podem ser alterados por via de métodos definidos dentro do objecto;\n",
    "* etc\n",
    "\n",
    "Os aspetos mais relevantes para o âmbito desta formação são a herança e associação.\n",
    "\n",
    "Recomenda-se uma leitura mais aprofundada sobre OOP de modo a atingir uma compreensão dos restantes aspetos. No final deste módulo é indicada alguma bibliografia relevante sobre este tema."
   ]
  },
  {
   "cell_type": "markdown",
   "metadata": {},
   "source": [
    "\n",
    "### Classes\n",
    "\n",
    "Em OOP, os objectos são criados a partir de definições prévias. Essas definições são chamadas de classes. Assim, dizemos que uma classe é uma especificação (um template) a partir da qual é possível instanciar (criar) objectos. Uma classe contém a especificação de:\n",
    "\n",
    "* **Atributos** - Os dados que cada objecto terá e que permitem a manutenção de estado de um sistema;\n",
    "\n",
    "* **Métodos** - As funções que cada objecto saberá executar e que permitem executar tranformações no estado do sistema.\n",
    "\n",
    "Podemos pensar nas classes como se fossem os conceitos abstractos e nos objectos como se fossem a sua materialização concreta.\n",
    "\n",
    "#### Uma analogia\n",
    "\n",
    "Quando pensamos no conceito “Cadeira” sabemos que nos estamos a referir a algo que não existe na realidade. No entanto, o conceito é útil porque nos permite definir um conjunto de características que são expectáveis em qualquer objecto físico que venha a ser classificado como sendo uma cadeira.\n",
    "\n",
    "Por exemplo, o nosso conceito abstrato diz-nos que uma cadeira tem um\n",
    "determinado número de pernas e um encosto para as costas. Em OOP, uma\n",
    "classe equivale a esta noção de um conceito, uma especificação.\n",
    "\n",
    "Quando pensamos concretamente na cadeira na qual estamos sentados, aí já\n",
    "estamos a ter em consideração um objeto. Essa cadeira concreta tem quatro\n",
    "pernas que medem 50 cm cada uma. Tem um encosto para as costas\n",
    "metálico. Podemos então dizer que a nossa cadeira é um objeto concreto,\n",
    "uma instância, do conceito genérico de “cadeira”. Em OOP diríamos que a\n",
    "nossa cadeira é um objecto da classe Cadeira."
   ]
  },
  {
   "cell_type": "markdown",
   "metadata": {},
   "source": [
    "#### Definição de classes em Python\n",
    "\n",
    "O seguinte código mostra um exemplo da definição de uma classe em Python. Neste caso, vamos especificar **UM** conceito de carro."
   ]
  },
  {
   "cell_type": "code",
   "execution_count": 1,
   "metadata": {},
   "outputs": [],
   "source": [
    "class Car:\n",
    "    # atributos default da classe\n",
    "    wheels = 0\n",
    "    license_plate = None\n",
    "    seats = 0\n",
    "    color = None\n",
    "    position = 0\n",
    "    gears = [1, 2, 3, 4, 5, \"reverse\"]\n",
    "    current_gear = 1\n",
    "    \n",
    "    # metodos\n",
    "    def __init__(self, license_plate, color=\"white\", wheels=4, seats=4):\n",
    "        # definicao dos atributos do objecto\n",
    "        self.license_plate = license_plate\n",
    "        self.wheels = wheels\n",
    "        self.seats = seats\n",
    "        self.color = color\n",
    "        self.position = 0\n",
    "        self.current_gear = 1\n",
    " \n",
    "    def set_gear(self, gear):\n",
    "        if gear in self.gears:\n",
    "            self.current_gear = gear\n",
    "        else:\n",
    "            raise RuntimeError(\"Invalid gear\")\n",
    "        return self.current_gear\n",
    "\n"
   ]
  },
  {
   "cell_type": "markdown",
   "metadata": {},
   "source": [
    "\n",
    "Como demonstrado acima, em Python, uma classe define-se através da utilização de determinadas regras:\n",
    "\n",
    " A palavra reservada `class` é utilizada no início da definição de uma classe, seguida pelo nome da classe (que por convenção inicia com uma maiúscula);\n",
    "\n",
    " A classe pode ter dois tipos de atributos (dados):\n",
    "\n",
    "* Atributos da classe - São definidos directamente no corpo da classe. \n",
    "  \n",
    "  Estes atributos são comuns a todos os objectos de uma classe, até serem redefinidos dentro de um objecto específico (um género de defaults);\n",
    "\n",
    "* Atributos de cada objecto – São normalmente definidos no método\n",
    "`__init__()` e são específicos de cada objecto (cada instância);\n",
    "\n",
    "Os métodos de uma classe são apenas funções normais do Python, mas definidas dentro do corpo da classe (i.e. devidamente indentados). \n",
    "\n",
    "Um método aceita sempre no mínimo um argumento. Por convenção este elemento costuma chamar-se `self`. É uma referência para o objecto em questão e pode ser usado para referenciar quaisquer atributos ou outros métodos da classe dentro de um método;\n",
    "\n",
    "Existem alguns métodos especiais. São representados com a nomenclatura `__metodo__`. Destes métodos o mais utilizado é o `__init__()`. O método `__init__()` é chamado automaticamente quando inicializamos um novo objecto de uma classe. Normalmente, é aqui que são definidos os atributos específicos do objecto criado; É também neste método que são definidos os atributos obrigatórios ao instanciar um objecto. Os atributos que têm valores default no método __init__() podem ser omitidos durante a criação de um objecto. Ao passo que os outros, não.\n",
    "\n",
    "Para instanciar um objecto de determinada classe, devemos usar a seguinte sintaxe `NomeDaClasse(parâmetros)`. Se os parâmetros forem introduzidos por ordem, não precisamos de nomeá-los. No entanto, se saltarmos um parâmetro opcional, temos de indicar o nome do parâmetro seguinte. \n",
    "\n",
    "O seguinte exemplo mostra como podemos criar objectos da classe `Car` definida anteriormente.\n"
   ]
  },
  {
   "cell_type": "code",
   "execution_count": 4,
   "metadata": {},
   "outputs": [
    {
     "ename": "TypeError",
     "evalue": "__init__() missing 1 required positional argument: 'license_plate'",
     "output_type": "error",
     "traceback": [
      "\u001b[0;31m---------------------------------------------------------------------------\u001b[0m",
      "\u001b[0;31mTypeError\u001b[0m                                 Traceback (most recent call last)",
      "\u001b[0;32m/tmp/ipykernel_10847/533088484.py\u001b[0m in \u001b[0;36m<module>\u001b[0;34m\u001b[0m\n\u001b[1;32m      2\u001b[0m \u001b[0mcarro1\u001b[0m \u001b[0;34m=\u001b[0m \u001b[0mCar\u001b[0m\u001b[0;34m(\u001b[0m\u001b[0;34m\"11-23-QQ\"\u001b[0m\u001b[0;34m,\u001b[0m \u001b[0;34m\"vermelho\"\u001b[0m\u001b[0;34m)\u001b[0m\u001b[0;34m\u001b[0m\u001b[0;34m\u001b[0m\u001b[0m\n\u001b[1;32m      3\u001b[0m \u001b[0mcarro2\u001b[0m \u001b[0;34m=\u001b[0m \u001b[0mCar\u001b[0m\u001b[0;34m(\u001b[0m\u001b[0;34m\"54-56-ZA\"\u001b[0m\u001b[0;34m,\u001b[0m \u001b[0mseats\u001b[0m\u001b[0;34m=\u001b[0m\u001b[0;36m4\u001b[0m\u001b[0;34m)\u001b[0m\u001b[0;34m\u001b[0m\u001b[0;34m\u001b[0m\u001b[0m\n\u001b[0;32m----> 4\u001b[0;31m \u001b[0mcarro3\u001b[0m \u001b[0;34m=\u001b[0m \u001b[0mCar\u001b[0m\u001b[0;34m(\u001b[0m\u001b[0mseats\u001b[0m\u001b[0;34m=\u001b[0m\u001b[0;36m4\u001b[0m\u001b[0;34m)\u001b[0m\u001b[0;34m\u001b[0m\u001b[0;34m\u001b[0m\u001b[0m\n\u001b[0m",
      "\u001b[0;31mTypeError\u001b[0m: __init__() missing 1 required positional argument: 'license_plate'"
     ]
    }
   ],
   "source": [
    "# criando dois objectos da classe Car\n",
    "carro1 = Car(\"11-23-QQ\", \"vermelho\")\n",
    "carro2 = Car(\"54-56-ZA\", seats=4)"
   ]
  },
  {
   "cell_type": "markdown",
   "metadata": {},
   "source": [
    "Depois de criados os objectos, podemos inspeccionar os seus atributos.\n",
    "\n",
    "Para aceder a um atributo do objecto ou executar um método, utilizamos a notação `nome_objecto.propriedade`. O caracter `.` é utilizado para significar que estamos a aceder a uma propriedade de um objecto."
   ]
  },
  {
   "cell_type": "code",
   "execution_count": 3,
   "metadata": {},
   "outputs": [
    {
     "name": "stdout",
     "output_type": "stream",
     "text": [
      "vermelho\n",
      "11-23-QQ\n",
      "4\n",
      "1\n",
      "4\n"
     ]
    }
   ],
   "source": [
    "# inspeccionando os atributos dos objectos\n",
    "print(carro1.color)\n",
    "print(carro1.license_plate)\n",
    "print(carro1.seats)\n",
    "print(carro2.current_gear)\n",
    "print(carro2.wheels)"
   ]
  },
  {
   "cell_type": "markdown",
   "metadata": {},
   "source": [
    "Reparemos que na criação do carro1 não foram definidos o número de lugares (seats), no entanto o o objecto usou o valor da classe. O mesmo acontece com o atributo de `current_gear`, que inicia sempre com o valor 1."
   ]
  },
  {
   "cell_type": "markdown",
   "metadata": {},
   "source": [
    "Depois de criados os objectos, só podemos alterar os seus atributos através de métodos definidos para o caso. A chamada encapsolação. Esta característica impede que os atributos de um objecto sejam alterados sem seguir a lógica definida pela classe. A utilização dos métodos é feita pela notação `nome_objecto.metodo(argumentos)`. No nosso exemplo, temos um método para mudar de mudança."
   ]
  },
  {
   "cell_type": "code",
   "execution_count": 6,
   "metadata": {},
   "outputs": [
    {
     "name": "stdout",
     "output_type": "stream",
     "text": [
      "2\n",
      "reverse\n"
     ]
    },
    {
     "data": {
      "text/plain": [
       "5"
      ]
     },
     "execution_count": 6,
     "metadata": {},
     "output_type": "execute_result"
    }
   ],
   "source": [
    "carro1.set_gear(2)\n",
    "print(carro1.current_gear)\n",
    "\n",
    "carro2.set_gear('reverse')\n",
    "print(carro2.current_gear)\n",
    "\n",
    "carro1.set_gear(5) # Error expected, there's no 6th gear"
   ]
  },
  {
   "cell_type": "markdown",
   "metadata": {},
   "source": [
    "\n",
    "## Herança e associação\n",
    "\n",
    "Existem dois mecanismos principais em OOP que permitem a reutilização de código e interação entre classes: herança e associação.\n",
    "\n",
    "### Herança\n",
    "\n",
    "É possível que uma classe nomeie uma outra classe como sendo a sua ancestral. Desta forma, a classe filha (child) pode herdar os atributos e métodos da classe mãe (parent). A este mecanismo chamamos de herança.\n",
    "\n",
    "A classe filha pode escolher redefinir apenas algumas das propriedades da classe mãe ou adicionar novas, enquanto as restantes se mantêm. Desta forma podemos dizer que a classe filha é uma especialização da classe mãe, ou uma sub-classe.\n",
    "\n",
    "Um exemplo concreto:\n",
    "\n",
    "Podemos ter uma subclasse da classe `Car`, chamada `RaceCar` que altera alguns atributos e métodos da classe ascestral e adiciona novos.\n",
    "\n",
    "Em Python, a definição da relação de herança entre uma classe e outra é indicada na definição da classe filha. Esta indicação faz-se através da inserção do nome da classe mãe entre parêntesis na linha de definição da classe e posteriormente instanciando um objecto do tipo da classe parente no método `__init__`."
   ]
  },
  {
   "cell_type": "code",
   "execution_count": 9,
   "metadata": {},
   "outputs": [],
   "source": [
    "class RaceCar(Car):\n",
    "    position = 0\n",
    "    number = None\n",
    "    driver = None\n",
    "\n",
    "    def __init__(self, number, driver, color='red'):\n",
    "        Car.__init__(self, None, color)\n",
    "        self.number = number\n",
    "        self.driver = driver\n",
    "    \n",
    "    def move(self, amount):\n",
    "        if self.current_gear != \"reverse\":\n",
    "            self.position = self.position + amount\n",
    "        else:\n",
    "            self.position = self.position - amount\n",
    "        return self.position\n",
    "    \n",
    "    def __str__(self):\n",
    "        return (f'number: {self.number}\\n'\n",
    "                f'driver: {self.driver}\\n'\n",
    "                f'color: {self.color}\\n'\n",
    "                f'position: {self.position}')"
   ]
  },
  {
   "cell_type": "markdown",
   "metadata": {},
   "source": [
    "Nesta especialização da classe Car, raceCar, adicionámos os atributos position, number e driver. Para além disso criámos um método para mover o raceCar e outro para mostrar o estado do mesmo.\n",
    "\n",
    "Vamos então criar um objecto do tipo RaceCar. Reparem que, embora só seja definido alguns atributos do objecto, os atributos e métodos da classe mãe também estão disponíveis."
   ]
  },
  {
   "cell_type": "code",
   "execution_count": 10,
   "metadata": {},
   "outputs": [
    {
     "name": "stdout",
     "output_type": "stream",
     "text": [
      "number: 13\n",
      "driver: Fast leprechaun\n",
      "color: Green\n",
      "position: 0\n"
     ]
    }
   ],
   "source": [
    "carro3 = RaceCar(13, 'Fast leprechaun', 'Green')\n",
    "\n",
    "print(carro3) # __str__ in use\n"
   ]
  },
  {
   "cell_type": "code",
   "execution_count": 11,
   "metadata": {},
   "outputs": [
    {
     "name": "stdout",
     "output_type": "stream",
     "text": [
      "4\n",
      "4\n",
      "None\n",
      "1\n",
      "2\n"
     ]
    }
   ],
   "source": [
    "\n",
    "# We can access parent class attributes\n",
    "print(carro3.seats) # always use base default\n",
    "print(carro3.wheels) # always use the base default\n",
    "print(carro3.license_plate) # Race car never have license_plate\n",
    "print(carro3.current_gear) # We can get parent class attributes\n",
    "\n",
    "# We can use the parent class methods too\n",
    "carro3.set_gear(2) \n",
    "print(carro3.current_gear)\n",
    "\n",
    "carro3."
   ]
  },
  {
   "cell_type": "markdown",
   "metadata": {},
   "source": [
    "### Associação\n",
    "\n",
    "Associação é o processo através do qual duas classes estabelecem relações de pertença e dependência entre si. Estas relações podem ser de 1:1 , 1:n e n:m. \n",
    "\n",
    "Podemos distinguir dois tipos de associação:\n",
    "\n",
    "**Composição** - Quando uma das classes é responsável pela criação e gestão da outra. Não é possível instanciar objectos da classe dependente de forma isolada, os mesmos são sempre criados e geridos por objectos da outra classe;\n",
    "\n",
    "**Agregação** - Quando as duas classes exibem uma relação de pertença, mas sem abdicar da sua individualidade. É possível criar objectos de qualquer uma das classes de forma independente e estabelecer as suas relações de pertença a posteriori.\n",
    "\n",
    "Passemos a exemplos. Podemos querer definir uma classe `Race` cujo um dos atributos são os carros de corrida que nele participam. A forma como criamos esta classe vai determinar se vamos ter uma associação por composição ou por Agregação.\n",
    "\n",
    "#### Exemplo de composição\n",
    "\n",
    "Com a seguinte implementação, os carros de corrida participantes são criados dentro de cada instância da classe Race através do método `add_racecar()`."
   ]
  },
  {
   "cell_type": "code",
   "execution_count": 13,
   "metadata": {},
   "outputs": [],
   "source": [
    "class Race():\n",
    "    race_cars = []\n",
    "    \n",
    "    def __init__(self, name, length):\n",
    "        self.name = name\n",
    "        self.length = length\n",
    "        self.race_cars = []\n",
    "\n",
    "    def add_racecar(self, number, name, color):\n",
    "        car = RaceCar(number, name, color)\n",
    "        self.race_cars.append(car)"
   ]
  },
  {
   "cell_type": "markdown",
   "metadata": {},
   "source": [
    "Vamos criar uma corrida e adicionar uns carros."
   ]
  },
  {
   "cell_type": "code",
   "execution_count": 14,
   "metadata": {},
   "outputs": [
    {
     "name": "stdout",
     "output_type": "stream",
     "text": [
      "[<__main__.RaceCar object at 0x7f45382a5040>, <__main__.RaceCar object at 0x7f45382a5df0>]\n",
      "number: 1\n",
      "driver: Alan Prost\n",
      "color: Gray\n",
      "position: 0 \n",
      "\n",
      "number: 2\n",
      "driver: Ayrton Senna\n",
      "color: Green\n",
      "position: 0 \n",
      "\n"
     ]
    }
   ],
   "source": [
    "le_mans = Race('Le Mans', 100)\n",
    "le_mans.add_racecar(1, 'Alan Prost', 'Gray')\n",
    "le_mans.add_racecar(2, 'Ayrton Senna', 'Green')\n",
    "\n",
    "print(le_mans.race_cars)\n",
    "for car in le_mans.race_cars:\n",
    "    print(car, '\\n')\n",
    "\n",
    "del le_mans"
   ]
  },
  {
   "cell_type": "markdown",
   "metadata": {},
   "source": [
    "Desta forma, estes carros de corrida apenas existem dentro deste contexto. Se apagarmos o objecto (Race) que os criou, deixamos de ter acesso aos raceCar que continha, deixam de existir."
   ]
  },
  {
   "cell_type": "markdown",
   "metadata": {},
   "source": [
    "#### Exemplo de agregação\n",
    "\n",
    "Ao contrário do exemplo anterior, na próxima implementação, os objectos RaceCar são independentes de qualquer objecto do tipo Race. Podem ser criados em qualquer altura sem nunca terem de participar numa corrida. A relação entre os objectos é assim criada à posteriori usando a nova versão do método `add_racecar()`. Para evitar problema, dentro do método verificamos se de facto o parametro usado em `car` é do tipo `raceCar`"
   ]
  },
  {
   "cell_type": "code",
   "execution_count": 15,
   "metadata": {},
   "outputs": [],
   "source": [
    "class Race():\n",
    "    \n",
    "    def __init__(self, name, length):\n",
    "        self.name = name\n",
    "        self.length = length\n",
    "        self.race_cars = []\n",
    "\n",
    "    def add_racecar(self, car):\n",
    "        if isinstance(car, RaceCar):\n",
    "            self.race_cars.append(car)\n",
    "        else:\n",
    "            raise RuntimeError(\"Not a racecar\")        "
   ]
  },
  {
   "cell_type": "markdown",
   "metadata": {},
   "source": [
    "O uso desta classe é ligeiramente diferente. Primeiro criamos os carros de corrida e só depois os podemos adicionar como participantes na corrida."
   ]
  },
  {
   "cell_type": "code",
   "execution_count": 17,
   "metadata": {},
   "outputs": [
    {
     "name": "stdout",
     "output_type": "stream",
     "text": [
      "[<__main__.RaceCar object at 0x7f45382a5b80>, <__main__.RaceCar object at 0x7f45382a51c0>]\n",
      "number: 1\n",
      "driver: Alan Prost\n",
      "color: Gray\n",
      "position: 0 \n",
      "\n",
      "number: 2\n",
      "driver: Ayrton Senna\n",
      "color: Green\n",
      "position: 0 \n",
      "\n"
     ]
    }
   ],
   "source": [
    "le_mans = Race('Le Mans', 100)\n",
    "racer1 = RaceCar(1, 'Alan Prost', 'Gray')\n",
    "racer2 = RaceCar(2, 'Ayrton Senna', 'Green')\n",
    "\n",
    "le_mans.add_racecar(racer1)\n",
    "le_mans.add_racecar(racer2)\n",
    "\n",
    "print(le_mans.race_cars)\n",
    "for car in le_mans.race_cars:\n",
    "    print(car, '\\n')"
   ]
  },
  {
   "cell_type": "markdown",
   "metadata": {},
   "source": [
    "Se tentarmos adicionar algo que não é um carro de corrida..."
   ]
  },
  {
   "cell_type": "code",
   "execution_count": 18,
   "metadata": {},
   "outputs": [
    {
     "ename": "RuntimeError",
     "evalue": "Not a racecar",
     "output_type": "error",
     "traceback": [
      "\u001b[0;31m---------------------------------------------------------------------------\u001b[0m",
      "\u001b[0;31mRuntimeError\u001b[0m                              Traceback (most recent call last)",
      "\u001b[0;32m/tmp/ipykernel_10847/2094131609.py\u001b[0m in \u001b[0;36m<module>\u001b[0;34m\u001b[0m\n\u001b[1;32m      1\u001b[0m \u001b[0mnormal_car\u001b[0m \u001b[0;34m=\u001b[0m \u001b[0mCar\u001b[0m\u001b[0;34m(\u001b[0m\u001b[0;34m'TZ-34-56'\u001b[0m\u001b[0;34m,\u001b[0m \u001b[0;34m'Blue'\u001b[0m\u001b[0;34m,\u001b[0m \u001b[0mseats\u001b[0m\u001b[0;34m=\u001b[0m\u001b[0;36m5\u001b[0m\u001b[0;34m)\u001b[0m\u001b[0;34m\u001b[0m\u001b[0;34m\u001b[0m\u001b[0m\n\u001b[1;32m      2\u001b[0m \u001b[0;34m\u001b[0m\u001b[0m\n\u001b[0;32m----> 3\u001b[0;31m \u001b[0mle_mans\u001b[0m\u001b[0;34m.\u001b[0m\u001b[0madd_racecar\u001b[0m\u001b[0;34m(\u001b[0m\u001b[0mnormal_car\u001b[0m\u001b[0;34m)\u001b[0m\u001b[0;34m\u001b[0m\u001b[0;34m\u001b[0m\u001b[0m\n\u001b[0m",
      "\u001b[0;32m/tmp/ipykernel_10847/539729247.py\u001b[0m in \u001b[0;36madd_racecar\u001b[0;34m(self, car)\u001b[0m\n\u001b[1;32m     10\u001b[0m             \u001b[0mself\u001b[0m\u001b[0;34m.\u001b[0m\u001b[0mrace_cars\u001b[0m\u001b[0;34m.\u001b[0m\u001b[0mappend\u001b[0m\u001b[0;34m(\u001b[0m\u001b[0mcar\u001b[0m\u001b[0;34m)\u001b[0m\u001b[0;34m\u001b[0m\u001b[0;34m\u001b[0m\u001b[0m\n\u001b[1;32m     11\u001b[0m         \u001b[0;32melse\u001b[0m\u001b[0;34m:\u001b[0m\u001b[0;34m\u001b[0m\u001b[0;34m\u001b[0m\u001b[0m\n\u001b[0;32m---> 12\u001b[0;31m             \u001b[0;32mraise\u001b[0m \u001b[0mRuntimeError\u001b[0m\u001b[0;34m(\u001b[0m\u001b[0;34m\"Not a racecar\"\u001b[0m\u001b[0;34m)\u001b[0m\u001b[0;34m\u001b[0m\u001b[0;34m\u001b[0m\u001b[0m\n\u001b[0m",
      "\u001b[0;31mRuntimeError\u001b[0m: Not a racecar"
     ]
    }
   ],
   "source": [
    "normal_car = Car('TZ-34-56', 'Blue', seats=5)\n",
    "\n",
    "le_mans.add_racecar(normal_car)"
   ]
  },
  {
   "cell_type": "markdown",
   "metadata": {},
   "source": [
    "Se apagarmos o objecto le_mans, do tipo Race, continuamos a conseguir aceder aos raceCar que nela participavam."
   ]
  },
  {
   "cell_type": "code",
   "execution_count": 19,
   "metadata": {},
   "outputs": [
    {
     "name": "stdout",
     "output_type": "stream",
     "text": [
      "number: 1\n",
      "driver: Alan Prost\n",
      "color: Gray\n",
      "position: 0\n"
     ]
    }
   ],
   "source": [
    "del le_mans\n",
    "\n",
    "print(racer1)"
   ]
  },
  {
   "cell_type": "markdown",
   "metadata": {},
   "source": [
    "## Exercísio - The race\n",
    "\n",
    "A seguinte implementação baseia-se nas classes Car e raceCar já criadas e tenta simular uma corrida entre dois carros.\n",
    "\n",
    "Será que conseguimos fazer alterações necessárias a classe Car, raceCars e Race de forma a tornar o código mais orientado a objectos?\n",
    "\n",
    "Alguma directrizes:\n",
    "\n",
    "1. Podem usar como base qualquer uma das implementações da classes `Race`\n",
    "2. A classe `raceCar` deve ter um método `restart()` para voltar a colocar um carro na linha de partida (`position = 0`)\n",
    "3. A classe `Race` deve ter um método `restart_all()` para colocar todos os carros na linha de partida (`position = 0`) que deve fazer uso do método anterior.\n",
    "4. A classe `Race` teve ter um atributo `race_is_on`, que define se a corrida está a decorrer ou não.\n",
    "5. A classe Race deve ter um método `status()` para mostrar o estado actual da corrida (numero, nome de cada participante e a sua posição).\n",
    "6.  A classe Race deve ter um método `run()` para iniciar a corrida, que deve usar internamente os métodos `restart_all` e adicionar lógica mencionados acima, incluindo usar o método `status()`o ir mostrando a posição de cada carro a cada \"ronda\" que passa.\n",
    "Um método para colocar todos os carros na posição 0\n",
    "\n",
    "**Extra:**\n",
    "\n",
    "Ideias para fazer com que a corrida possa ser disputada por todos os participantes?"
   ]
  },
  {
   "cell_type": "code",
   "execution_count": 21,
   "metadata": {},
   "outputs": [
    {
     "name": "stdout",
     "output_type": "stream",
     "text": [
      "Vamos dar inicio a uma corrida entre Alan Prost e Ayrton Senna\n",
      "Quem chegará primeiro à posição 100?\n",
      "3... 2... 1... PARTIDA!!\n",
      "\n",
      "Alan Prost: 5, Ayrton Senna: 1\n",
      "Alan Prost: 11, Ayrton Senna: 4\n",
      "Alan Prost: 15, Ayrton Senna: 9\n",
      "Alan Prost: 16, Ayrton Senna: 10\n",
      "Alan Prost: 17, Ayrton Senna: 11\n",
      "Alan Prost: 22, Ayrton Senna: 17\n",
      "Alan Prost: 24, Ayrton Senna: 21\n",
      "Alan Prost: 30, Ayrton Senna: 27\n",
      "Alan Prost: 34, Ayrton Senna: 33\n",
      "Alan Prost: 37, Ayrton Senna: 38\n",
      "Alan Prost: 39, Ayrton Senna: 44\n",
      "Alan Prost: 41, Ayrton Senna: 47\n",
      "Alan Prost: 46, Ayrton Senna: 51\n",
      "Alan Prost: 52, Ayrton Senna: 56\n",
      "Alan Prost: 53, Ayrton Senna: 59\n",
      "Alan Prost: 54, Ayrton Senna: 63\n",
      "Alan Prost: 57, Ayrton Senna: 67\n",
      "Alan Prost: 62, Ayrton Senna: 71\n",
      "Alan Prost: 64, Ayrton Senna: 72\n",
      "Alan Prost: 65, Ayrton Senna: 75\n",
      "Alan Prost: 71, Ayrton Senna: 79\n",
      "Alan Prost: 72, Ayrton Senna: 80\n",
      "Alan Prost: 76, Ayrton Senna: 83\n",
      "Alan Prost: 81, Ayrton Senna: 87\n",
      "Alan Prost: 83, Ayrton Senna: 91\n",
      "Alan Prost: 89, Ayrton Senna: 93\n",
      "Alan Prost: 91, Ayrton Senna: 97\n",
      "Alan Prost: 94, Ayrton Senna: 102\n",
      "Terminou a corrida\n",
      "### VENCEDOR: Ayrton Senna ###\n"
     ]
    }
   ],
   "source": [
    "# Tudo a postos. vamos fazer uma corrida?\n",
    "posicao_meta = 100\n",
    "racer1 = RaceCar(1, 'Alan Prost', 'Gray')\n",
    "racer2 = RaceCar(2, 'Ayrton Senna', 'Green')\n",
    "\n",
    "print(\n",
    "    f\"Vamos dar inicio a uma corrida entre {racer1.driver} e \"\n",
    "    f\"{racer2.driver}\"\n",
    ")\n",
    "print(f\"Quem chegará primeiro à posição {posicao_meta}?\")\n",
    "print(f\"3... 2... 1... PARTIDA!!\\n\")\n",
    "\n",
    "from random import randint\n",
    "\n",
    "race_ended = False\n",
    "while not race_ended:\n",
    "    racer1.move(randint(1, 6)) # chamando os metodos dos objectos\n",
    "    racer2.move(randint(1, 6)) # com um valor aleatório\n",
    "    \n",
    "    print(\n",
    "        f\"{racer1.driver}: {racer1.position}, \"\n",
    "        f\"{racer2.driver}: {racer2.position}\"\n",
    "    )\n",
    "    c1_finished = racer1.position >= posicao_meta\n",
    "    c2_finished = racer2.position >= posicao_meta\n",
    "    if c1_finished or c2_finished:\n",
    "        race_ended = True\n",
    "        if c1_finished and c2_finished:\n",
    "            vencedor = None # empate\n",
    "            break\n",
    "        elif c1_finished:\n",
    "            vencedor = racer1\n",
    "            break\n",
    "        elif c2_finished:\n",
    "            vencedor = racer2\n",
    "            break\n",
    "    else:\n",
    "        pass # ainda nenhum dos carros atingiu a meta\n",
    "\n",
    "print(\"Terminou a corrida\")\n",
    "if vencedor is not None:\n",
    "    print(f\"### VENCEDOR: {vencedor.driver} ###\")\n",
    "else:\n",
    "    print(\"Empate. Vamos a uma desforra?\")"
   ]
  },
  {
   "cell_type": "code",
   "execution_count": 22,
   "metadata": {},
   "outputs": [],
   "source": [
    "class RaceCar(Car):\n",
    "    position = 0\n",
    "    number = None\n",
    "    driver = None\n",
    "\n",
    "    def __init__(self, number, driver, color='red'):\n",
    "        Car.__init__(self, None, color)\n",
    "        self.number = number\n",
    "        self.driver = driver\n",
    "    \n",
    "    def move(self, amount):\n",
    "        if self.current_gear != \"reverse\":\n",
    "            self.position = self.position + amount\n",
    "        else:\n",
    "            self.position = self.position - amount\n",
    "        return self.position\n",
    "    \n",
    "    def restart(self):\n",
    "        self.position = 0\n",
    "    \n",
    "    def __str__(self):\n",
    "        return (f'number: {self.number}\\n'\n",
    "                f'driver: {self.driver}\\n'\n",
    "                f'color: {self.color}\\n'\n",
    "                f'position: {self.position}')"
   ]
  },
  {
   "cell_type": "code",
   "execution_count": 23,
   "metadata": {},
   "outputs": [],
   "source": [
    "class Race():\n",
    "    race_is_on = False\n",
    "\n",
    "    def __init__(self, name, length):\n",
    "        self.name = name\n",
    "        self.length = length\n",
    "        self.race_cars = []\n",
    "\n",
    "    def add_racecar(self, car):\n",
    "        if isinstance(car, RaceCar):\n",
    "            self.race_cars.append(car)\n",
    "        else:\n",
    "            raise RuntimeError(\"Not a racecar\")\n",
    "\n",
    "    def restart_all(self):\n",
    "        for car in self.race_cars:\n",
    "            car.restart() "
   ]
  },
  {
   "cell_type": "code",
   "execution_count": 28,
   "metadata": {},
   "outputs": [
    {
     "name": "stdout",
     "output_type": "stream",
     "text": [
      "number: 1\n",
      "driver: Alan Prost\n",
      "color: Gray\n",
      "position: 10\n",
      "number: 1\n",
      "driver: Alan Prost\n",
      "color: Gray\n",
      "position: 0\n"
     ]
    }
   ],
   "source": [
    "le_mans = Race('Le Mans', 100)\n",
    "racer1 = RaceCar(1, 'Alan Prost', 'Gray')\n",
    "racer2 = RaceCar(2, 'Ayrton Senna', 'Green')\n",
    "\n",
    "le_mans.add_racecar(racer1)\n",
    "le_mans.add_racecar(racer2)\n",
    "\n",
    "racer1.move(10)\n",
    "print(racer1)\n",
    "le_mans.restart_all()\n",
    "print(racer1)"
   ]
  },
  {
   "cell_type": "markdown",
   "metadata": {},
   "source": [
    "## Referências\n",
    "\n",
    "* http://python-textbok.readthedocs.io/en/latest/ Object_Oriented_Programming.html\n",
    "\n",
    "* https://www.packtpub.com/application-development/python-3-object-oriented- programming\n"
   ]
  }
 ],
 "metadata": {
  "interpreter": {
   "hash": "31f2aee4e71d21fbe5cf8b01ff0e069b9275f58929596ceb00d14d90e3e16cd6"
  },
  "kernelspec": {
   "display_name": "Python 3.8.10 64-bit",
   "language": "python",
   "name": "python3"
  },
  "language_info": {
   "codemirror_mode": {
    "name": "ipython",
    "version": 3
   },
   "file_extension": ".py",
   "mimetype": "text/x-python",
   "name": "python",
   "nbconvert_exporter": "python",
   "pygments_lexer": "ipython3",
   "version": "3.8.10"
  },
  "orig_nbformat": 4
 },
 "nbformat": 4,
 "nbformat_minor": 2
}

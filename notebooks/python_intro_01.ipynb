{
 "cells": [
  {
   "cell_type": "markdown",
   "metadata": {},
   "source": [
    "# Introdução ao Python\n",
    "\n",
    "Iremos usar este notebook para explorar os principais elementos do Python. Como seria de esperar, nem todos operadores e tipos de dados serão abrangidos nesta introdução, por essa razão será sempre útil ter à mão a [documentação oficial do Python](https://docs.python.org/3/).\n",
    "\n",
    "**Nota:** Notebooks jupyter não são consideradas ferramentas de programação, são antes ferramentas usadas na exploração preliminar de dados e são especialmente úteis em contextos de formação, como é o nosso caso.\n",
    "\n"
   ]
  },
  {
   "cell_type": "markdown",
   "metadata": {},
   "source": [
    "## Variáveis\n",
    "\n",
    "Em Python, as variáveis são etiquetas com nomes que apontam para valores(objectos). A contrário de outras linguagens de programação, em Python, a declaração de uma variável e atribuição de um valor é feita num único passo usando o operador `=`. Ao longo do tempo de vida de um programa ou script a mesma variavel pode mudar de valor e ate mudar de tipo de valores."
   ]
  },
  {
   "cell_type": "code",
   "execution_count": 2,
   "metadata": {},
   "outputs": [
    {
     "name": "stdout",
     "output_type": "stream",
     "text": [
      "10 2 Artur\n",
      "10 2 Lancelot\n"
     ]
    }
   ],
   "source": [
    "a = 10\n",
    "b = 2\n",
    "nome = 'Artur'\n",
    "\n",
    "print(a, b, nome)\n",
    "\n",
    "# Mudar valor da variavel\n",
    "nome  = 'Lancelot'\n",
    "\n",
    "print(a, b, nome)"
   ]
  },
  {
   "cell_type": "markdown",
   "metadata": {},
   "source": [
    "> **Nota - Comentarios** Se quisermos adicionar comentarios no nosso codigo python, pratica muito comum e desejavel, fazemos com recurso ao caracter `#`. Em Python, na mesma linha, tudo o que vier a direita de um # e ignorado"
   ]
  },
  {
   "cell_type": "markdown",
   "metadata": {},
   "source": [
    "As regras fundamentais para nomear as variaveis sao:\n",
    "\n",
    "1. O nome de uma variavel deve comecar com uma letra ou um underscore\n",
    "2. Os nomes de variaveis so devem ter caracteres alfanumericos (a-z, A-Z, 0-9) e underscores.\n",
    "\n",
    "Para alem disso, sao recomendadas as seguinte regras na escolha de nomes de variaveis:\n",
    "\n",
    "1. Um bom nome de uma variavel tem um significado explicito - tem de ser possivel adivinhar o objectivo da mesma apartir do seu nome.\n",
    "2. Um bom nome de uma variavel deve ser curto para evitar a poluicao visual\n",
    "\n",
    "Por exemplo, compare:\n",
    "\n",
    "> `a = b * c`\n",
    "\n",
    "Com:\n",
    "\n",
    "> `area_rectangulo = altura * largura`\n"
   ]
  },
  {
   "cell_type": "markdown",
   "metadata": {},
   "source": [
    "Uma variavel para existir, tera de ser declarada com um valor. Se isso nao for feito, ao tentarmos usar uma variavel que nao foi iniciada, vamos obter um erro."
   ]
  },
  {
   "cell_type": "code",
   "execution_count": 3,
   "metadata": {},
   "outputs": [
    {
     "ename": "NameError",
     "evalue": "name 'z' is not defined",
     "output_type": "error",
     "traceback": [
      "\u001b[0;31m---------------------------------------------------------------------------\u001b[0m",
      "\u001b[0;31mNameError\u001b[0m                                 Traceback (most recent call last)",
      "\u001b[0;32m/tmp/ipykernel_9666/557461111.py\u001b[0m in \u001b[0;36m<module>\u001b[0;34m\u001b[0m\n\u001b[0;32m----> 1\u001b[0;31m \u001b[0mprint\u001b[0m\u001b[0;34m(\u001b[0m\u001b[0mz\u001b[0m\u001b[0;34m)\u001b[0m\u001b[0;34m\u001b[0m\u001b[0;34m\u001b[0m\u001b[0m\n\u001b[0m",
      "\u001b[0;31mNameError\u001b[0m: name 'z' is not defined"
     ]
    }
   ],
   "source": [
    "print(z)"
   ]
  },
  {
   "cell_type": "markdown",
   "metadata": {},
   "source": [
    " Quando precisamos de criar uma variavel \"vazia\" usamos a palavra reservada `None`."
   ]
  },
  {
   "cell_type": "code",
   "execution_count": 4,
   "metadata": {},
   "outputs": [
    {
     "name": "stdout",
     "output_type": "stream",
     "text": [
      "None\n"
     ]
    }
   ],
   "source": [
    "z = None\n",
    "print(z)\n"
   ]
  },
  {
   "cell_type": "markdown",
   "metadata": {},
   "source": [
    "A gestao de memoria no Python e automatica, quando um determinado valor/objecto deixa de ser usado, o gestor de memoria encarrega-se de o eliminar da memoria para libertar espaco para outras coisas."
   ]
  }
 ],
 "metadata": {
  "interpreter": {
   "hash": "916dbcbb3f70747c44a77c7bcd40155683ae19c65e1c03b4aa3499c5328201f1"
  },
  "kernelspec": {
   "display_name": "Python 3.8.10 64-bit",
   "language": "python",
   "name": "python3"
  },
  "language_info": {
   "codemirror_mode": {
    "name": "ipython",
    "version": 3
   },
   "file_extension": ".py",
   "mimetype": "text/x-python",
   "name": "python",
   "nbconvert_exporter": "python",
   "pygments_lexer": "ipython3",
   "version": "3.8.10"
  },
  "orig_nbformat": 4
 },
 "nbformat": 4,
 "nbformat_minor": 2
}
